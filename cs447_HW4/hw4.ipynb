{
  "nbformat": 4,
  "nbformat_minor": 0,
  "metadata": {
    "colab": {
      "name": "hw4.ipynb",
      "provenance": [],
      "collapsed_sections": []
    },
    "kernelspec": {
      "name": "python3",
      "display_name": "Python 3"
    },
    "accelerator": "GPU",
    "widgets": {
      "application/vnd.jupyter.widget-state+json": {
        "e6347b988b134f4d88dc0ec54458f956": {
          "model_module": "@jupyter-widgets/controls",
          "model_name": "HBoxModel",
          "state": {
            "_view_name": "HBoxView",
            "_dom_classes": [],
            "_model_name": "HBoxModel",
            "_view_module": "@jupyter-widgets/controls",
            "_model_module_version": "1.5.0",
            "_view_count": null,
            "_view_module_version": "1.5.0",
            "box_style": "",
            "layout": "IPY_MODEL_ee25fabf8d84446881b72fa2157eb74e",
            "_model_module": "@jupyter-widgets/controls",
            "children": [
              "IPY_MODEL_a3bafd3c8c7f48f19ff05b5bffa9d9db",
              "IPY_MODEL_e3215b0233d54c6383aa35fe98018016"
            ]
          }
        },
        "ee25fabf8d84446881b72fa2157eb74e": {
          "model_module": "@jupyter-widgets/base",
          "model_name": "LayoutModel",
          "state": {
            "_view_name": "LayoutView",
            "grid_template_rows": null,
            "right": null,
            "justify_content": null,
            "_view_module": "@jupyter-widgets/base",
            "overflow": null,
            "_model_module_version": "1.2.0",
            "_view_count": null,
            "flex_flow": null,
            "width": null,
            "min_width": null,
            "border": null,
            "align_items": null,
            "bottom": null,
            "_model_module": "@jupyter-widgets/base",
            "top": null,
            "grid_column": null,
            "overflow_y": null,
            "overflow_x": null,
            "grid_auto_flow": null,
            "grid_area": null,
            "grid_template_columns": null,
            "flex": null,
            "_model_name": "LayoutModel",
            "justify_items": null,
            "grid_row": null,
            "max_height": null,
            "align_content": null,
            "visibility": null,
            "align_self": null,
            "height": null,
            "min_height": null,
            "padding": null,
            "grid_auto_rows": null,
            "grid_gap": null,
            "max_width": null,
            "order": null,
            "_view_module_version": "1.2.0",
            "grid_template_areas": null,
            "object_position": null,
            "object_fit": null,
            "grid_auto_columns": null,
            "margin": null,
            "display": null,
            "left": null
          }
        },
        "a3bafd3c8c7f48f19ff05b5bffa9d9db": {
          "model_module": "@jupyter-widgets/controls",
          "model_name": "FloatProgressModel",
          "state": {
            "_view_name": "ProgressView",
            "style": "IPY_MODEL_8045ab64ae704bdd81b20433cbae1b75",
            "_dom_classes": [],
            "description": "100%",
            "_model_name": "FloatProgressModel",
            "bar_style": "success",
            "max": 375,
            "_view_module": "@jupyter-widgets/controls",
            "_model_module_version": "1.5.0",
            "value": 375,
            "_view_count": null,
            "_view_module_version": "1.5.0",
            "orientation": "horizontal",
            "min": 0,
            "description_tooltip": null,
            "_model_module": "@jupyter-widgets/controls",
            "layout": "IPY_MODEL_9655c25684b74e3ba88ce3ad6df1c787"
          }
        },
        "e3215b0233d54c6383aa35fe98018016": {
          "model_module": "@jupyter-widgets/controls",
          "model_name": "HTMLModel",
          "state": {
            "_view_name": "HTMLView",
            "style": "IPY_MODEL_efb2e0e1b65345cea1b0a77050e6efbd",
            "_dom_classes": [],
            "description": "",
            "_model_name": "HTMLModel",
            "placeholder": "​",
            "_view_module": "@jupyter-widgets/controls",
            "_model_module_version": "1.5.0",
            "value": " 375/375 [00:55&lt;00:00,  6.70it/s]",
            "_view_count": null,
            "_view_module_version": "1.5.0",
            "description_tooltip": null,
            "_model_module": "@jupyter-widgets/controls",
            "layout": "IPY_MODEL_60cadcf48bb64554895dc2c1cf8d0644"
          }
        },
        "8045ab64ae704bdd81b20433cbae1b75": {
          "model_module": "@jupyter-widgets/controls",
          "model_name": "ProgressStyleModel",
          "state": {
            "_view_name": "StyleView",
            "_model_name": "ProgressStyleModel",
            "description_width": "initial",
            "_view_module": "@jupyter-widgets/base",
            "_model_module_version": "1.5.0",
            "_view_count": null,
            "_view_module_version": "1.2.0",
            "bar_color": null,
            "_model_module": "@jupyter-widgets/controls"
          }
        },
        "9655c25684b74e3ba88ce3ad6df1c787": {
          "model_module": "@jupyter-widgets/base",
          "model_name": "LayoutModel",
          "state": {
            "_view_name": "LayoutView",
            "grid_template_rows": null,
            "right": null,
            "justify_content": null,
            "_view_module": "@jupyter-widgets/base",
            "overflow": null,
            "_model_module_version": "1.2.0",
            "_view_count": null,
            "flex_flow": null,
            "width": null,
            "min_width": null,
            "border": null,
            "align_items": null,
            "bottom": null,
            "_model_module": "@jupyter-widgets/base",
            "top": null,
            "grid_column": null,
            "overflow_y": null,
            "overflow_x": null,
            "grid_auto_flow": null,
            "grid_area": null,
            "grid_template_columns": null,
            "flex": null,
            "_model_name": "LayoutModel",
            "justify_items": null,
            "grid_row": null,
            "max_height": null,
            "align_content": null,
            "visibility": null,
            "align_self": null,
            "height": null,
            "min_height": null,
            "padding": null,
            "grid_auto_rows": null,
            "grid_gap": null,
            "max_width": null,
            "order": null,
            "_view_module_version": "1.2.0",
            "grid_template_areas": null,
            "object_position": null,
            "object_fit": null,
            "grid_auto_columns": null,
            "margin": null,
            "display": null,
            "left": null
          }
        },
        "efb2e0e1b65345cea1b0a77050e6efbd": {
          "model_module": "@jupyter-widgets/controls",
          "model_name": "DescriptionStyleModel",
          "state": {
            "_view_name": "StyleView",
            "_model_name": "DescriptionStyleModel",
            "description_width": "",
            "_view_module": "@jupyter-widgets/base",
            "_model_module_version": "1.5.0",
            "_view_count": null,
            "_view_module_version": "1.2.0",
            "_model_module": "@jupyter-widgets/controls"
          }
        },
        "60cadcf48bb64554895dc2c1cf8d0644": {
          "model_module": "@jupyter-widgets/base",
          "model_name": "LayoutModel",
          "state": {
            "_view_name": "LayoutView",
            "grid_template_rows": null,
            "right": null,
            "justify_content": null,
            "_view_module": "@jupyter-widgets/base",
            "overflow": null,
            "_model_module_version": "1.2.0",
            "_view_count": null,
            "flex_flow": null,
            "width": null,
            "min_width": null,
            "border": null,
            "align_items": null,
            "bottom": null,
            "_model_module": "@jupyter-widgets/base",
            "top": null,
            "grid_column": null,
            "overflow_y": null,
            "overflow_x": null,
            "grid_auto_flow": null,
            "grid_area": null,
            "grid_template_columns": null,
            "flex": null,
            "_model_name": "LayoutModel",
            "justify_items": null,
            "grid_row": null,
            "max_height": null,
            "align_content": null,
            "visibility": null,
            "align_self": null,
            "height": null,
            "min_height": null,
            "padding": null,
            "grid_auto_rows": null,
            "grid_gap": null,
            "max_width": null,
            "order": null,
            "_view_module_version": "1.2.0",
            "grid_template_areas": null,
            "object_position": null,
            "object_fit": null,
            "grid_auto_columns": null,
            "margin": null,
            "display": null,
            "left": null
          }
        },
        "9857c4d1775745d584da4732a8780f41": {
          "model_module": "@jupyter-widgets/controls",
          "model_name": "HBoxModel",
          "state": {
            "_view_name": "HBoxView",
            "_dom_classes": [],
            "_model_name": "HBoxModel",
            "_view_module": "@jupyter-widgets/controls",
            "_model_module_version": "1.5.0",
            "_view_count": null,
            "_view_module_version": "1.5.0",
            "box_style": "",
            "layout": "IPY_MODEL_e0c2d493741c45358385310dd256f4d8",
            "_model_module": "@jupyter-widgets/controls",
            "children": [
              "IPY_MODEL_5f5d76cc39054928ae80e447bfb0686c",
              "IPY_MODEL_60b8db16fd0d4e5da90893fd55a9117e"
            ]
          }
        },
        "e0c2d493741c45358385310dd256f4d8": {
          "model_module": "@jupyter-widgets/base",
          "model_name": "LayoutModel",
          "state": {
            "_view_name": "LayoutView",
            "grid_template_rows": null,
            "right": null,
            "justify_content": null,
            "_view_module": "@jupyter-widgets/base",
            "overflow": null,
            "_model_module_version": "1.2.0",
            "_view_count": null,
            "flex_flow": null,
            "width": null,
            "min_width": null,
            "border": null,
            "align_items": null,
            "bottom": null,
            "_model_module": "@jupyter-widgets/base",
            "top": null,
            "grid_column": null,
            "overflow_y": null,
            "overflow_x": null,
            "grid_auto_flow": null,
            "grid_area": null,
            "grid_template_columns": null,
            "flex": null,
            "_model_name": "LayoutModel",
            "justify_items": null,
            "grid_row": null,
            "max_height": null,
            "align_content": null,
            "visibility": null,
            "align_self": null,
            "height": null,
            "min_height": null,
            "padding": null,
            "grid_auto_rows": null,
            "grid_gap": null,
            "max_width": null,
            "order": null,
            "_view_module_version": "1.2.0",
            "grid_template_areas": null,
            "object_position": null,
            "object_fit": null,
            "grid_auto_columns": null,
            "margin": null,
            "display": null,
            "left": null
          }
        },
        "5f5d76cc39054928ae80e447bfb0686c": {
          "model_module": "@jupyter-widgets/controls",
          "model_name": "FloatProgressModel",
          "state": {
            "_view_name": "ProgressView",
            "style": "IPY_MODEL_7414d219e1e5497296cf4ed8f37cb2e8",
            "_dom_classes": [],
            "description": "100%",
            "_model_name": "FloatProgressModel",
            "bar_style": "success",
            "max": 375,
            "_view_module": "@jupyter-widgets/controls",
            "_model_module_version": "1.5.0",
            "value": 375,
            "_view_count": null,
            "_view_module_version": "1.5.0",
            "orientation": "horizontal",
            "min": 0,
            "description_tooltip": null,
            "_model_module": "@jupyter-widgets/controls",
            "layout": "IPY_MODEL_a45c210abf7741418dc070dd8cb9dfbe"
          }
        },
        "60b8db16fd0d4e5da90893fd55a9117e": {
          "model_module": "@jupyter-widgets/controls",
          "model_name": "HTMLModel",
          "state": {
            "_view_name": "HTMLView",
            "style": "IPY_MODEL_da906c05102145e7a9f2a545974cd77b",
            "_dom_classes": [],
            "description": "",
            "_model_name": "HTMLModel",
            "placeholder": "​",
            "_view_module": "@jupyter-widgets/controls",
            "_model_module_version": "1.5.0",
            "value": " 375/375 [00:11&lt;00:00, 33.62it/s]",
            "_view_count": null,
            "_view_module_version": "1.5.0",
            "description_tooltip": null,
            "_model_module": "@jupyter-widgets/controls",
            "layout": "IPY_MODEL_fc492f8ae2104d53823e8cfb9dbb6fff"
          }
        },
        "7414d219e1e5497296cf4ed8f37cb2e8": {
          "model_module": "@jupyter-widgets/controls",
          "model_name": "ProgressStyleModel",
          "state": {
            "_view_name": "StyleView",
            "_model_name": "ProgressStyleModel",
            "description_width": "initial",
            "_view_module": "@jupyter-widgets/base",
            "_model_module_version": "1.5.0",
            "_view_count": null,
            "_view_module_version": "1.2.0",
            "bar_color": null,
            "_model_module": "@jupyter-widgets/controls"
          }
        },
        "a45c210abf7741418dc070dd8cb9dfbe": {
          "model_module": "@jupyter-widgets/base",
          "model_name": "LayoutModel",
          "state": {
            "_view_name": "LayoutView",
            "grid_template_rows": null,
            "right": null,
            "justify_content": null,
            "_view_module": "@jupyter-widgets/base",
            "overflow": null,
            "_model_module_version": "1.2.0",
            "_view_count": null,
            "flex_flow": null,
            "width": null,
            "min_width": null,
            "border": null,
            "align_items": null,
            "bottom": null,
            "_model_module": "@jupyter-widgets/base",
            "top": null,
            "grid_column": null,
            "overflow_y": null,
            "overflow_x": null,
            "grid_auto_flow": null,
            "grid_area": null,
            "grid_template_columns": null,
            "flex": null,
            "_model_name": "LayoutModel",
            "justify_items": null,
            "grid_row": null,
            "max_height": null,
            "align_content": null,
            "visibility": null,
            "align_self": null,
            "height": null,
            "min_height": null,
            "padding": null,
            "grid_auto_rows": null,
            "grid_gap": null,
            "max_width": null,
            "order": null,
            "_view_module_version": "1.2.0",
            "grid_template_areas": null,
            "object_position": null,
            "object_fit": null,
            "grid_auto_columns": null,
            "margin": null,
            "display": null,
            "left": null
          }
        },
        "da906c05102145e7a9f2a545974cd77b": {
          "model_module": "@jupyter-widgets/controls",
          "model_name": "DescriptionStyleModel",
          "state": {
            "_view_name": "StyleView",
            "_model_name": "DescriptionStyleModel",
            "description_width": "",
            "_view_module": "@jupyter-widgets/base",
            "_model_module_version": "1.5.0",
            "_view_count": null,
            "_view_module_version": "1.2.0",
            "_model_module": "@jupyter-widgets/controls"
          }
        },
        "fc492f8ae2104d53823e8cfb9dbb6fff": {
          "model_module": "@jupyter-widgets/base",
          "model_name": "LayoutModel",
          "state": {
            "_view_name": "LayoutView",
            "grid_template_rows": null,
            "right": null,
            "justify_content": null,
            "_view_module": "@jupyter-widgets/base",
            "overflow": null,
            "_model_module_version": "1.2.0",
            "_view_count": null,
            "flex_flow": null,
            "width": null,
            "min_width": null,
            "border": null,
            "align_items": null,
            "bottom": null,
            "_model_module": "@jupyter-widgets/base",
            "top": null,
            "grid_column": null,
            "overflow_y": null,
            "overflow_x": null,
            "grid_auto_flow": null,
            "grid_area": null,
            "grid_template_columns": null,
            "flex": null,
            "_model_name": "LayoutModel",
            "justify_items": null,
            "grid_row": null,
            "max_height": null,
            "align_content": null,
            "visibility": null,
            "align_self": null,
            "height": null,
            "min_height": null,
            "padding": null,
            "grid_auto_rows": null,
            "grid_gap": null,
            "max_width": null,
            "order": null,
            "_view_module_version": "1.2.0",
            "grid_template_areas": null,
            "object_position": null,
            "object_fit": null,
            "grid_auto_columns": null,
            "margin": null,
            "display": null,
            "left": null
          }
        },
        "e362062a2ba8478a89a965e6685a2f70": {
          "model_module": "@jupyter-widgets/controls",
          "model_name": "HBoxModel",
          "state": {
            "_view_name": "HBoxView",
            "_dom_classes": [],
            "_model_name": "HBoxModel",
            "_view_module": "@jupyter-widgets/controls",
            "_model_module_version": "1.5.0",
            "_view_count": null,
            "_view_module_version": "1.5.0",
            "box_style": "",
            "layout": "IPY_MODEL_471ac43c1b954e8882933e36a9322b50",
            "_model_module": "@jupyter-widgets/controls",
            "children": [
              "IPY_MODEL_ada07711886c40b086cc234636661d2a",
              "IPY_MODEL_674ee7d724894c6d98c5801ca1e63fc8"
            ]
          }
        },
        "471ac43c1b954e8882933e36a9322b50": {
          "model_module": "@jupyter-widgets/base",
          "model_name": "LayoutModel",
          "state": {
            "_view_name": "LayoutView",
            "grid_template_rows": null,
            "right": null,
            "justify_content": null,
            "_view_module": "@jupyter-widgets/base",
            "overflow": null,
            "_model_module_version": "1.2.0",
            "_view_count": null,
            "flex_flow": null,
            "width": null,
            "min_width": null,
            "border": null,
            "align_items": null,
            "bottom": null,
            "_model_module": "@jupyter-widgets/base",
            "top": null,
            "grid_column": null,
            "overflow_y": null,
            "overflow_x": null,
            "grid_auto_flow": null,
            "grid_area": null,
            "grid_template_columns": null,
            "flex": null,
            "_model_name": "LayoutModel",
            "justify_items": null,
            "grid_row": null,
            "max_height": null,
            "align_content": null,
            "visibility": null,
            "align_self": null,
            "height": null,
            "min_height": null,
            "padding": null,
            "grid_auto_rows": null,
            "grid_gap": null,
            "max_width": null,
            "order": null,
            "_view_module_version": "1.2.0",
            "grid_template_areas": null,
            "object_position": null,
            "object_fit": null,
            "grid_auto_columns": null,
            "margin": null,
            "display": null,
            "left": null
          }
        },
        "ada07711886c40b086cc234636661d2a": {
          "model_module": "@jupyter-widgets/controls",
          "model_name": "FloatProgressModel",
          "state": {
            "_view_name": "ProgressView",
            "style": "IPY_MODEL_c257c7bfcb6f420ebf012110a0f01ff2",
            "_dom_classes": [],
            "description": "100%",
            "_model_name": "FloatProgressModel",
            "bar_style": "success",
            "max": 375,
            "_view_module": "@jupyter-widgets/controls",
            "_model_module_version": "1.5.0",
            "value": 375,
            "_view_count": null,
            "_view_module_version": "1.5.0",
            "orientation": "horizontal",
            "min": 0,
            "description_tooltip": null,
            "_model_module": "@jupyter-widgets/controls",
            "layout": "IPY_MODEL_eb8c972ee6ab4c05a97e7072cf78e0fc"
          }
        },
        "674ee7d724894c6d98c5801ca1e63fc8": {
          "model_module": "@jupyter-widgets/controls",
          "model_name": "HTMLModel",
          "state": {
            "_view_name": "HTMLView",
            "style": "IPY_MODEL_17720354422248a09ee120b542b88cd7",
            "_dom_classes": [],
            "description": "",
            "_model_name": "HTMLModel",
            "placeholder": "​",
            "_view_module": "@jupyter-widgets/controls",
            "_model_module_version": "1.5.0",
            "value": " 375/375 [00:33&lt;00:00, 11.22it/s]",
            "_view_count": null,
            "_view_module_version": "1.5.0",
            "description_tooltip": null,
            "_model_module": "@jupyter-widgets/controls",
            "layout": "IPY_MODEL_be5a9becb46048f3b7c1396d71127a83"
          }
        },
        "c257c7bfcb6f420ebf012110a0f01ff2": {
          "model_module": "@jupyter-widgets/controls",
          "model_name": "ProgressStyleModel",
          "state": {
            "_view_name": "StyleView",
            "_model_name": "ProgressStyleModel",
            "description_width": "initial",
            "_view_module": "@jupyter-widgets/base",
            "_model_module_version": "1.5.0",
            "_view_count": null,
            "_view_module_version": "1.2.0",
            "bar_color": null,
            "_model_module": "@jupyter-widgets/controls"
          }
        },
        "eb8c972ee6ab4c05a97e7072cf78e0fc": {
          "model_module": "@jupyter-widgets/base",
          "model_name": "LayoutModel",
          "state": {
            "_view_name": "LayoutView",
            "grid_template_rows": null,
            "right": null,
            "justify_content": null,
            "_view_module": "@jupyter-widgets/base",
            "overflow": null,
            "_model_module_version": "1.2.0",
            "_view_count": null,
            "flex_flow": null,
            "width": null,
            "min_width": null,
            "border": null,
            "align_items": null,
            "bottom": null,
            "_model_module": "@jupyter-widgets/base",
            "top": null,
            "grid_column": null,
            "overflow_y": null,
            "overflow_x": null,
            "grid_auto_flow": null,
            "grid_area": null,
            "grid_template_columns": null,
            "flex": null,
            "_model_name": "LayoutModel",
            "justify_items": null,
            "grid_row": null,
            "max_height": null,
            "align_content": null,
            "visibility": null,
            "align_self": null,
            "height": null,
            "min_height": null,
            "padding": null,
            "grid_auto_rows": null,
            "grid_gap": null,
            "max_width": null,
            "order": null,
            "_view_module_version": "1.2.0",
            "grid_template_areas": null,
            "object_position": null,
            "object_fit": null,
            "grid_auto_columns": null,
            "margin": null,
            "display": null,
            "left": null
          }
        },
        "17720354422248a09ee120b542b88cd7": {
          "model_module": "@jupyter-widgets/controls",
          "model_name": "DescriptionStyleModel",
          "state": {
            "_view_name": "StyleView",
            "_model_name": "DescriptionStyleModel",
            "description_width": "",
            "_view_module": "@jupyter-widgets/base",
            "_model_module_version": "1.5.0",
            "_view_count": null,
            "_view_module_version": "1.2.0",
            "_model_module": "@jupyter-widgets/controls"
          }
        },
        "be5a9becb46048f3b7c1396d71127a83": {
          "model_module": "@jupyter-widgets/base",
          "model_name": "LayoutModel",
          "state": {
            "_view_name": "LayoutView",
            "grid_template_rows": null,
            "right": null,
            "justify_content": null,
            "_view_module": "@jupyter-widgets/base",
            "overflow": null,
            "_model_module_version": "1.2.0",
            "_view_count": null,
            "flex_flow": null,
            "width": null,
            "min_width": null,
            "border": null,
            "align_items": null,
            "bottom": null,
            "_model_module": "@jupyter-widgets/base",
            "top": null,
            "grid_column": null,
            "overflow_y": null,
            "overflow_x": null,
            "grid_auto_flow": null,
            "grid_area": null,
            "grid_template_columns": null,
            "flex": null,
            "_model_name": "LayoutModel",
            "justify_items": null,
            "grid_row": null,
            "max_height": null,
            "align_content": null,
            "visibility": null,
            "align_self": null,
            "height": null,
            "min_height": null,
            "padding": null,
            "grid_auto_rows": null,
            "grid_gap": null,
            "max_width": null,
            "order": null,
            "_view_module_version": "1.2.0",
            "grid_template_areas": null,
            "object_position": null,
            "object_fit": null,
            "grid_auto_columns": null,
            "margin": null,
            "display": null,
            "left": null
          }
        },
        "bb9da86fda9a426eb23bdb66d8ee9c55": {
          "model_module": "@jupyter-widgets/controls",
          "model_name": "HBoxModel",
          "state": {
            "_view_name": "HBoxView",
            "_dom_classes": [],
            "_model_name": "HBoxModel",
            "_view_module": "@jupyter-widgets/controls",
            "_model_module_version": "1.5.0",
            "_view_count": null,
            "_view_module_version": "1.5.0",
            "box_style": "",
            "layout": "IPY_MODEL_26a3e39493b94325aa8902035eaa0ab0",
            "_model_module": "@jupyter-widgets/controls",
            "children": [
              "IPY_MODEL_7caac3a30c88497a96689107b67e6f0a",
              "IPY_MODEL_c9744fb5ae5d4b60b16941bc5880dc41"
            ]
          }
        },
        "26a3e39493b94325aa8902035eaa0ab0": {
          "model_module": "@jupyter-widgets/base",
          "model_name": "LayoutModel",
          "state": {
            "_view_name": "LayoutView",
            "grid_template_rows": null,
            "right": null,
            "justify_content": null,
            "_view_module": "@jupyter-widgets/base",
            "overflow": null,
            "_model_module_version": "1.2.0",
            "_view_count": null,
            "flex_flow": null,
            "width": null,
            "min_width": null,
            "border": null,
            "align_items": null,
            "bottom": null,
            "_model_module": "@jupyter-widgets/base",
            "top": null,
            "grid_column": null,
            "overflow_y": null,
            "overflow_x": null,
            "grid_auto_flow": null,
            "grid_area": null,
            "grid_template_columns": null,
            "flex": null,
            "_model_name": "LayoutModel",
            "justify_items": null,
            "grid_row": null,
            "max_height": null,
            "align_content": null,
            "visibility": null,
            "align_self": null,
            "height": null,
            "min_height": null,
            "padding": null,
            "grid_auto_rows": null,
            "grid_gap": null,
            "max_width": null,
            "order": null,
            "_view_module_version": "1.2.0",
            "grid_template_areas": null,
            "object_position": null,
            "object_fit": null,
            "grid_auto_columns": null,
            "margin": null,
            "display": null,
            "left": null
          }
        },
        "7caac3a30c88497a96689107b67e6f0a": {
          "model_module": "@jupyter-widgets/controls",
          "model_name": "FloatProgressModel",
          "state": {
            "_view_name": "ProgressView",
            "style": "IPY_MODEL_50e27e9972bd4515a992ff56f34d1249",
            "_dom_classes": [],
            "description": "100%",
            "_model_name": "FloatProgressModel",
            "bar_style": "success",
            "max": 375,
            "_view_module": "@jupyter-widgets/controls",
            "_model_module_version": "1.5.0",
            "value": 375,
            "_view_count": null,
            "_view_module_version": "1.5.0",
            "orientation": "horizontal",
            "min": 0,
            "description_tooltip": null,
            "_model_module": "@jupyter-widgets/controls",
            "layout": "IPY_MODEL_59d67a537c7e4019bfd93733669b811e"
          }
        },
        "c9744fb5ae5d4b60b16941bc5880dc41": {
          "model_module": "@jupyter-widgets/controls",
          "model_name": "HTMLModel",
          "state": {
            "_view_name": "HTMLView",
            "style": "IPY_MODEL_f8d873fbc2ec490bb0366a126d435383",
            "_dom_classes": [],
            "description": "",
            "_model_name": "HTMLModel",
            "placeholder": "​",
            "_view_module": "@jupyter-widgets/controls",
            "_model_module_version": "1.5.0",
            "value": " 375/375 [00:22&lt;00:00, 16.83it/s]",
            "_view_count": null,
            "_view_module_version": "1.5.0",
            "description_tooltip": null,
            "_model_module": "@jupyter-widgets/controls",
            "layout": "IPY_MODEL_54e1acb4bb05416182d78f1458e2a5b9"
          }
        },
        "50e27e9972bd4515a992ff56f34d1249": {
          "model_module": "@jupyter-widgets/controls",
          "model_name": "ProgressStyleModel",
          "state": {
            "_view_name": "StyleView",
            "_model_name": "ProgressStyleModel",
            "description_width": "initial",
            "_view_module": "@jupyter-widgets/base",
            "_model_module_version": "1.5.0",
            "_view_count": null,
            "_view_module_version": "1.2.0",
            "bar_color": null,
            "_model_module": "@jupyter-widgets/controls"
          }
        },
        "59d67a537c7e4019bfd93733669b811e": {
          "model_module": "@jupyter-widgets/base",
          "model_name": "LayoutModel",
          "state": {
            "_view_name": "LayoutView",
            "grid_template_rows": null,
            "right": null,
            "justify_content": null,
            "_view_module": "@jupyter-widgets/base",
            "overflow": null,
            "_model_module_version": "1.2.0",
            "_view_count": null,
            "flex_flow": null,
            "width": null,
            "min_width": null,
            "border": null,
            "align_items": null,
            "bottom": null,
            "_model_module": "@jupyter-widgets/base",
            "top": null,
            "grid_column": null,
            "overflow_y": null,
            "overflow_x": null,
            "grid_auto_flow": null,
            "grid_area": null,
            "grid_template_columns": null,
            "flex": null,
            "_model_name": "LayoutModel",
            "justify_items": null,
            "grid_row": null,
            "max_height": null,
            "align_content": null,
            "visibility": null,
            "align_self": null,
            "height": null,
            "min_height": null,
            "padding": null,
            "grid_auto_rows": null,
            "grid_gap": null,
            "max_width": null,
            "order": null,
            "_view_module_version": "1.2.0",
            "grid_template_areas": null,
            "object_position": null,
            "object_fit": null,
            "grid_auto_columns": null,
            "margin": null,
            "display": null,
            "left": null
          }
        },
        "f8d873fbc2ec490bb0366a126d435383": {
          "model_module": "@jupyter-widgets/controls",
          "model_name": "DescriptionStyleModel",
          "state": {
            "_view_name": "StyleView",
            "_model_name": "DescriptionStyleModel",
            "description_width": "",
            "_view_module": "@jupyter-widgets/base",
            "_model_module_version": "1.5.0",
            "_view_count": null,
            "_view_module_version": "1.2.0",
            "_model_module": "@jupyter-widgets/controls"
          }
        },
        "54e1acb4bb05416182d78f1458e2a5b9": {
          "model_module": "@jupyter-widgets/base",
          "model_name": "LayoutModel",
          "state": {
            "_view_name": "LayoutView",
            "grid_template_rows": null,
            "right": null,
            "justify_content": null,
            "_view_module": "@jupyter-widgets/base",
            "overflow": null,
            "_model_module_version": "1.2.0",
            "_view_count": null,
            "flex_flow": null,
            "width": null,
            "min_width": null,
            "border": null,
            "align_items": null,
            "bottom": null,
            "_model_module": "@jupyter-widgets/base",
            "top": null,
            "grid_column": null,
            "overflow_y": null,
            "overflow_x": null,
            "grid_auto_flow": null,
            "grid_area": null,
            "grid_template_columns": null,
            "flex": null,
            "_model_name": "LayoutModel",
            "justify_items": null,
            "grid_row": null,
            "max_height": null,
            "align_content": null,
            "visibility": null,
            "align_self": null,
            "height": null,
            "min_height": null,
            "padding": null,
            "grid_auto_rows": null,
            "grid_gap": null,
            "max_width": null,
            "order": null,
            "_view_module_version": "1.2.0",
            "grid_template_areas": null,
            "object_position": null,
            "object_fit": null,
            "grid_auto_columns": null,
            "margin": null,
            "display": null,
            "left": null
          }
        },
        "d79288be77e3439fb56d8ad9a91ba70d": {
          "model_module": "@jupyter-widgets/controls",
          "model_name": "HBoxModel",
          "state": {
            "_view_name": "HBoxView",
            "_dom_classes": [],
            "_model_name": "HBoxModel",
            "_view_module": "@jupyter-widgets/controls",
            "_model_module_version": "1.5.0",
            "_view_count": null,
            "_view_module_version": "1.5.0",
            "box_style": "",
            "layout": "IPY_MODEL_8392866719ff4f7eb964e3cab0b7c69f",
            "_model_module": "@jupyter-widgets/controls",
            "children": [
              "IPY_MODEL_e4a63a3cee40471f872aeea908fd9bb5",
              "IPY_MODEL_b3bf11d0f3bf45759205e44c8cbbdc51"
            ]
          }
        },
        "8392866719ff4f7eb964e3cab0b7c69f": {
          "model_module": "@jupyter-widgets/base",
          "model_name": "LayoutModel",
          "state": {
            "_view_name": "LayoutView",
            "grid_template_rows": null,
            "right": null,
            "justify_content": null,
            "_view_module": "@jupyter-widgets/base",
            "overflow": null,
            "_model_module_version": "1.2.0",
            "_view_count": null,
            "flex_flow": null,
            "width": null,
            "min_width": null,
            "border": null,
            "align_items": null,
            "bottom": null,
            "_model_module": "@jupyter-widgets/base",
            "top": null,
            "grid_column": null,
            "overflow_y": null,
            "overflow_x": null,
            "grid_auto_flow": null,
            "grid_area": null,
            "grid_template_columns": null,
            "flex": null,
            "_model_name": "LayoutModel",
            "justify_items": null,
            "grid_row": null,
            "max_height": null,
            "align_content": null,
            "visibility": null,
            "align_self": null,
            "height": null,
            "min_height": null,
            "padding": null,
            "grid_auto_rows": null,
            "grid_gap": null,
            "max_width": null,
            "order": null,
            "_view_module_version": "1.2.0",
            "grid_template_areas": null,
            "object_position": null,
            "object_fit": null,
            "grid_auto_columns": null,
            "margin": null,
            "display": null,
            "left": null
          }
        },
        "e4a63a3cee40471f872aeea908fd9bb5": {
          "model_module": "@jupyter-widgets/controls",
          "model_name": "FloatProgressModel",
          "state": {
            "_view_name": "ProgressView",
            "style": "IPY_MODEL_16a6e615d86349fa8f02dffd3bc3d5d2",
            "_dom_classes": [],
            "description": "100%",
            "_model_name": "FloatProgressModel",
            "bar_style": "success",
            "max": 375,
            "_view_module": "@jupyter-widgets/controls",
            "_model_module_version": "1.5.0",
            "value": 375,
            "_view_count": null,
            "_view_module_version": "1.5.0",
            "orientation": "horizontal",
            "min": 0,
            "description_tooltip": null,
            "_model_module": "@jupyter-widgets/controls",
            "layout": "IPY_MODEL_3db868d06f7243cc9ba21d3e02abb8be"
          }
        },
        "b3bf11d0f3bf45759205e44c8cbbdc51": {
          "model_module": "@jupyter-widgets/controls",
          "model_name": "HTMLModel",
          "state": {
            "_view_name": "HTMLView",
            "style": "IPY_MODEL_67810f1278584566a14f9289075c3a30",
            "_dom_classes": [],
            "description": "",
            "_model_name": "HTMLModel",
            "placeholder": "​",
            "_view_module": "@jupyter-widgets/controls",
            "_model_module_version": "1.5.0",
            "value": " 375/375 [00:11&lt;00:00, 33.65it/s]",
            "_view_count": null,
            "_view_module_version": "1.5.0",
            "description_tooltip": null,
            "_model_module": "@jupyter-widgets/controls",
            "layout": "IPY_MODEL_ea80d31c36044ad6b673ba835a4bb63f"
          }
        },
        "16a6e615d86349fa8f02dffd3bc3d5d2": {
          "model_module": "@jupyter-widgets/controls",
          "model_name": "ProgressStyleModel",
          "state": {
            "_view_name": "StyleView",
            "_model_name": "ProgressStyleModel",
            "description_width": "initial",
            "_view_module": "@jupyter-widgets/base",
            "_model_module_version": "1.5.0",
            "_view_count": null,
            "_view_module_version": "1.2.0",
            "bar_color": null,
            "_model_module": "@jupyter-widgets/controls"
          }
        },
        "3db868d06f7243cc9ba21d3e02abb8be": {
          "model_module": "@jupyter-widgets/base",
          "model_name": "LayoutModel",
          "state": {
            "_view_name": "LayoutView",
            "grid_template_rows": null,
            "right": null,
            "justify_content": null,
            "_view_module": "@jupyter-widgets/base",
            "overflow": null,
            "_model_module_version": "1.2.0",
            "_view_count": null,
            "flex_flow": null,
            "width": null,
            "min_width": null,
            "border": null,
            "align_items": null,
            "bottom": null,
            "_model_module": "@jupyter-widgets/base",
            "top": null,
            "grid_column": null,
            "overflow_y": null,
            "overflow_x": null,
            "grid_auto_flow": null,
            "grid_area": null,
            "grid_template_columns": null,
            "flex": null,
            "_model_name": "LayoutModel",
            "justify_items": null,
            "grid_row": null,
            "max_height": null,
            "align_content": null,
            "visibility": null,
            "align_self": null,
            "height": null,
            "min_height": null,
            "padding": null,
            "grid_auto_rows": null,
            "grid_gap": null,
            "max_width": null,
            "order": null,
            "_view_module_version": "1.2.0",
            "grid_template_areas": null,
            "object_position": null,
            "object_fit": null,
            "grid_auto_columns": null,
            "margin": null,
            "display": null,
            "left": null
          }
        },
        "67810f1278584566a14f9289075c3a30": {
          "model_module": "@jupyter-widgets/controls",
          "model_name": "DescriptionStyleModel",
          "state": {
            "_view_name": "StyleView",
            "_model_name": "DescriptionStyleModel",
            "description_width": "",
            "_view_module": "@jupyter-widgets/base",
            "_model_module_version": "1.5.0",
            "_view_count": null,
            "_view_module_version": "1.2.0",
            "_model_module": "@jupyter-widgets/controls"
          }
        },
        "ea80d31c36044ad6b673ba835a4bb63f": {
          "model_module": "@jupyter-widgets/base",
          "model_name": "LayoutModel",
          "state": {
            "_view_name": "LayoutView",
            "grid_template_rows": null,
            "right": null,
            "justify_content": null,
            "_view_module": "@jupyter-widgets/base",
            "overflow": null,
            "_model_module_version": "1.2.0",
            "_view_count": null,
            "flex_flow": null,
            "width": null,
            "min_width": null,
            "border": null,
            "align_items": null,
            "bottom": null,
            "_model_module": "@jupyter-widgets/base",
            "top": null,
            "grid_column": null,
            "overflow_y": null,
            "overflow_x": null,
            "grid_auto_flow": null,
            "grid_area": null,
            "grid_template_columns": null,
            "flex": null,
            "_model_name": "LayoutModel",
            "justify_items": null,
            "grid_row": null,
            "max_height": null,
            "align_content": null,
            "visibility": null,
            "align_self": null,
            "height": null,
            "min_height": null,
            "padding": null,
            "grid_auto_rows": null,
            "grid_gap": null,
            "max_width": null,
            "order": null,
            "_view_module_version": "1.2.0",
            "grid_template_areas": null,
            "object_position": null,
            "object_fit": null,
            "grid_auto_columns": null,
            "margin": null,
            "display": null,
            "left": null
          }
        },
        "0b747c4b44f34f3c8a3d3d70bdb29402": {
          "model_module": "@jupyter-widgets/controls",
          "model_name": "HBoxModel",
          "state": {
            "_view_name": "HBoxView",
            "_dom_classes": [],
            "_model_name": "HBoxModel",
            "_view_module": "@jupyter-widgets/controls",
            "_model_module_version": "1.5.0",
            "_view_count": null,
            "_view_module_version": "1.5.0",
            "box_style": "",
            "layout": "IPY_MODEL_7717a0bcdcb7497c8dbaec166f01d136",
            "_model_module": "@jupyter-widgets/controls",
            "children": [
              "IPY_MODEL_1667bd54d110478c84f006fafc79a7d3",
              "IPY_MODEL_d85b32c9565e48f3aa127c7d7ee11e09"
            ]
          }
        },
        "7717a0bcdcb7497c8dbaec166f01d136": {
          "model_module": "@jupyter-widgets/base",
          "model_name": "LayoutModel",
          "state": {
            "_view_name": "LayoutView",
            "grid_template_rows": null,
            "right": null,
            "justify_content": null,
            "_view_module": "@jupyter-widgets/base",
            "overflow": null,
            "_model_module_version": "1.2.0",
            "_view_count": null,
            "flex_flow": null,
            "width": null,
            "min_width": null,
            "border": null,
            "align_items": null,
            "bottom": null,
            "_model_module": "@jupyter-widgets/base",
            "top": null,
            "grid_column": null,
            "overflow_y": null,
            "overflow_x": null,
            "grid_auto_flow": null,
            "grid_area": null,
            "grid_template_columns": null,
            "flex": null,
            "_model_name": "LayoutModel",
            "justify_items": null,
            "grid_row": null,
            "max_height": null,
            "align_content": null,
            "visibility": null,
            "align_self": null,
            "height": null,
            "min_height": null,
            "padding": null,
            "grid_auto_rows": null,
            "grid_gap": null,
            "max_width": null,
            "order": null,
            "_view_module_version": "1.2.0",
            "grid_template_areas": null,
            "object_position": null,
            "object_fit": null,
            "grid_auto_columns": null,
            "margin": null,
            "display": null,
            "left": null
          }
        },
        "1667bd54d110478c84f006fafc79a7d3": {
          "model_module": "@jupyter-widgets/controls",
          "model_name": "FloatProgressModel",
          "state": {
            "_view_name": "ProgressView",
            "style": "IPY_MODEL_32cf8ad52b584eb5bf1b9543fcfe3adc",
            "_dom_classes": [],
            "description": "100%",
            "_model_name": "FloatProgressModel",
            "bar_style": "success",
            "max": 375,
            "_view_module": "@jupyter-widgets/controls",
            "_model_module_version": "1.5.0",
            "value": 375,
            "_view_count": null,
            "_view_module_version": "1.5.0",
            "orientation": "horizontal",
            "min": 0,
            "description_tooltip": null,
            "_model_module": "@jupyter-widgets/controls",
            "layout": "IPY_MODEL_bb1280bda8934fd0aee3c646d3029627"
          }
        },
        "d85b32c9565e48f3aa127c7d7ee11e09": {
          "model_module": "@jupyter-widgets/controls",
          "model_name": "HTMLModel",
          "state": {
            "_view_name": "HTMLView",
            "style": "IPY_MODEL_a78ff446ae8e414aa486bb34e76bfa27",
            "_dom_classes": [],
            "description": "",
            "_model_name": "HTMLModel",
            "placeholder": "​",
            "_view_module": "@jupyter-widgets/controls",
            "_model_module_version": "1.5.0",
            "value": " 375/375 [00:33&lt;00:00, 11.14it/s]",
            "_view_count": null,
            "_view_module_version": "1.5.0",
            "description_tooltip": null,
            "_model_module": "@jupyter-widgets/controls",
            "layout": "IPY_MODEL_92476964e8454113b28ec27a2e2bd76f"
          }
        },
        "32cf8ad52b584eb5bf1b9543fcfe3adc": {
          "model_module": "@jupyter-widgets/controls",
          "model_name": "ProgressStyleModel",
          "state": {
            "_view_name": "StyleView",
            "_model_name": "ProgressStyleModel",
            "description_width": "initial",
            "_view_module": "@jupyter-widgets/base",
            "_model_module_version": "1.5.0",
            "_view_count": null,
            "_view_module_version": "1.2.0",
            "bar_color": null,
            "_model_module": "@jupyter-widgets/controls"
          }
        },
        "bb1280bda8934fd0aee3c646d3029627": {
          "model_module": "@jupyter-widgets/base",
          "model_name": "LayoutModel",
          "state": {
            "_view_name": "LayoutView",
            "grid_template_rows": null,
            "right": null,
            "justify_content": null,
            "_view_module": "@jupyter-widgets/base",
            "overflow": null,
            "_model_module_version": "1.2.0",
            "_view_count": null,
            "flex_flow": null,
            "width": null,
            "min_width": null,
            "border": null,
            "align_items": null,
            "bottom": null,
            "_model_module": "@jupyter-widgets/base",
            "top": null,
            "grid_column": null,
            "overflow_y": null,
            "overflow_x": null,
            "grid_auto_flow": null,
            "grid_area": null,
            "grid_template_columns": null,
            "flex": null,
            "_model_name": "LayoutModel",
            "justify_items": null,
            "grid_row": null,
            "max_height": null,
            "align_content": null,
            "visibility": null,
            "align_self": null,
            "height": null,
            "min_height": null,
            "padding": null,
            "grid_auto_rows": null,
            "grid_gap": null,
            "max_width": null,
            "order": null,
            "_view_module_version": "1.2.0",
            "grid_template_areas": null,
            "object_position": null,
            "object_fit": null,
            "grid_auto_columns": null,
            "margin": null,
            "display": null,
            "left": null
          }
        },
        "a78ff446ae8e414aa486bb34e76bfa27": {
          "model_module": "@jupyter-widgets/controls",
          "model_name": "DescriptionStyleModel",
          "state": {
            "_view_name": "StyleView",
            "_model_name": "DescriptionStyleModel",
            "description_width": "",
            "_view_module": "@jupyter-widgets/base",
            "_model_module_version": "1.5.0",
            "_view_count": null,
            "_view_module_version": "1.2.0",
            "_model_module": "@jupyter-widgets/controls"
          }
        },
        "92476964e8454113b28ec27a2e2bd76f": {
          "model_module": "@jupyter-widgets/base",
          "model_name": "LayoutModel",
          "state": {
            "_view_name": "LayoutView",
            "grid_template_rows": null,
            "right": null,
            "justify_content": null,
            "_view_module": "@jupyter-widgets/base",
            "overflow": null,
            "_model_module_version": "1.2.0",
            "_view_count": null,
            "flex_flow": null,
            "width": null,
            "min_width": null,
            "border": null,
            "align_items": null,
            "bottom": null,
            "_model_module": "@jupyter-widgets/base",
            "top": null,
            "grid_column": null,
            "overflow_y": null,
            "overflow_x": null,
            "grid_auto_flow": null,
            "grid_area": null,
            "grid_template_columns": null,
            "flex": null,
            "_model_name": "LayoutModel",
            "justify_items": null,
            "grid_row": null,
            "max_height": null,
            "align_content": null,
            "visibility": null,
            "align_self": null,
            "height": null,
            "min_height": null,
            "padding": null,
            "grid_auto_rows": null,
            "grid_gap": null,
            "max_width": null,
            "order": null,
            "_view_module_version": "1.2.0",
            "grid_template_areas": null,
            "object_position": null,
            "object_fit": null,
            "grid_auto_columns": null,
            "margin": null,
            "display": null,
            "left": null
          }
        },
        "11c7a8ea3de04f6bbc8fb8b593178a34": {
          "model_module": "@jupyter-widgets/controls",
          "model_name": "HBoxModel",
          "state": {
            "_view_name": "HBoxView",
            "_dom_classes": [],
            "_model_name": "HBoxModel",
            "_view_module": "@jupyter-widgets/controls",
            "_model_module_version": "1.5.0",
            "_view_count": null,
            "_view_module_version": "1.5.0",
            "box_style": "",
            "layout": "IPY_MODEL_61b08666e3b140d18552d0ba665e0dc9",
            "_model_module": "@jupyter-widgets/controls",
            "children": [
              "IPY_MODEL_59ece97ccca64a02b082ad8bfb895f53",
              "IPY_MODEL_1e32af7e7c034608bcacb386ed77fc05"
            ]
          }
        },
        "61b08666e3b140d18552d0ba665e0dc9": {
          "model_module": "@jupyter-widgets/base",
          "model_name": "LayoutModel",
          "state": {
            "_view_name": "LayoutView",
            "grid_template_rows": null,
            "right": null,
            "justify_content": null,
            "_view_module": "@jupyter-widgets/base",
            "overflow": null,
            "_model_module_version": "1.2.0",
            "_view_count": null,
            "flex_flow": null,
            "width": null,
            "min_width": null,
            "border": null,
            "align_items": null,
            "bottom": null,
            "_model_module": "@jupyter-widgets/base",
            "top": null,
            "grid_column": null,
            "overflow_y": null,
            "overflow_x": null,
            "grid_auto_flow": null,
            "grid_area": null,
            "grid_template_columns": null,
            "flex": null,
            "_model_name": "LayoutModel",
            "justify_items": null,
            "grid_row": null,
            "max_height": null,
            "align_content": null,
            "visibility": null,
            "align_self": null,
            "height": null,
            "min_height": null,
            "padding": null,
            "grid_auto_rows": null,
            "grid_gap": null,
            "max_width": null,
            "order": null,
            "_view_module_version": "1.2.0",
            "grid_template_areas": null,
            "object_position": null,
            "object_fit": null,
            "grid_auto_columns": null,
            "margin": null,
            "display": null,
            "left": null
          }
        },
        "59ece97ccca64a02b082ad8bfb895f53": {
          "model_module": "@jupyter-widgets/controls",
          "model_name": "FloatProgressModel",
          "state": {
            "_view_name": "ProgressView",
            "style": "IPY_MODEL_4e9890f64a0240cf91c8d6741a5c7fad",
            "_dom_classes": [],
            "description": "100%",
            "_model_name": "FloatProgressModel",
            "bar_style": "success",
            "max": 375,
            "_view_module": "@jupyter-widgets/controls",
            "_model_module_version": "1.5.0",
            "value": 375,
            "_view_count": null,
            "_view_module_version": "1.5.0",
            "orientation": "horizontal",
            "min": 0,
            "description_tooltip": null,
            "_model_module": "@jupyter-widgets/controls",
            "layout": "IPY_MODEL_8f7b84a320b8484c8095b5344423a68b"
          }
        },
        "1e32af7e7c034608bcacb386ed77fc05": {
          "model_module": "@jupyter-widgets/controls",
          "model_name": "HTMLModel",
          "state": {
            "_view_name": "HTMLView",
            "style": "IPY_MODEL_feedffbd9876433eb63d418d802fb39f",
            "_dom_classes": [],
            "description": "",
            "_model_name": "HTMLModel",
            "placeholder": "​",
            "_view_module": "@jupyter-widgets/controls",
            "_model_module_version": "1.5.0",
            "value": " 375/375 [00:22&lt;00:00, 16.59it/s]",
            "_view_count": null,
            "_view_module_version": "1.5.0",
            "description_tooltip": null,
            "_model_module": "@jupyter-widgets/controls",
            "layout": "IPY_MODEL_14c5fb7ff8b24a9880b3dfb20ef4c1a7"
          }
        },
        "4e9890f64a0240cf91c8d6741a5c7fad": {
          "model_module": "@jupyter-widgets/controls",
          "model_name": "ProgressStyleModel",
          "state": {
            "_view_name": "StyleView",
            "_model_name": "ProgressStyleModel",
            "description_width": "initial",
            "_view_module": "@jupyter-widgets/base",
            "_model_module_version": "1.5.0",
            "_view_count": null,
            "_view_module_version": "1.2.0",
            "bar_color": null,
            "_model_module": "@jupyter-widgets/controls"
          }
        },
        "8f7b84a320b8484c8095b5344423a68b": {
          "model_module": "@jupyter-widgets/base",
          "model_name": "LayoutModel",
          "state": {
            "_view_name": "LayoutView",
            "grid_template_rows": null,
            "right": null,
            "justify_content": null,
            "_view_module": "@jupyter-widgets/base",
            "overflow": null,
            "_model_module_version": "1.2.0",
            "_view_count": null,
            "flex_flow": null,
            "width": null,
            "min_width": null,
            "border": null,
            "align_items": null,
            "bottom": null,
            "_model_module": "@jupyter-widgets/base",
            "top": null,
            "grid_column": null,
            "overflow_y": null,
            "overflow_x": null,
            "grid_auto_flow": null,
            "grid_area": null,
            "grid_template_columns": null,
            "flex": null,
            "_model_name": "LayoutModel",
            "justify_items": null,
            "grid_row": null,
            "max_height": null,
            "align_content": null,
            "visibility": null,
            "align_self": null,
            "height": null,
            "min_height": null,
            "padding": null,
            "grid_auto_rows": null,
            "grid_gap": null,
            "max_width": null,
            "order": null,
            "_view_module_version": "1.2.0",
            "grid_template_areas": null,
            "object_position": null,
            "object_fit": null,
            "grid_auto_columns": null,
            "margin": null,
            "display": null,
            "left": null
          }
        },
        "feedffbd9876433eb63d418d802fb39f": {
          "model_module": "@jupyter-widgets/controls",
          "model_name": "DescriptionStyleModel",
          "state": {
            "_view_name": "StyleView",
            "_model_name": "DescriptionStyleModel",
            "description_width": "",
            "_view_module": "@jupyter-widgets/base",
            "_model_module_version": "1.5.0",
            "_view_count": null,
            "_view_module_version": "1.2.0",
            "_model_module": "@jupyter-widgets/controls"
          }
        },
        "14c5fb7ff8b24a9880b3dfb20ef4c1a7": {
          "model_module": "@jupyter-widgets/base",
          "model_name": "LayoutModel",
          "state": {
            "_view_name": "LayoutView",
            "grid_template_rows": null,
            "right": null,
            "justify_content": null,
            "_view_module": "@jupyter-widgets/base",
            "overflow": null,
            "_model_module_version": "1.2.0",
            "_view_count": null,
            "flex_flow": null,
            "width": null,
            "min_width": null,
            "border": null,
            "align_items": null,
            "bottom": null,
            "_model_module": "@jupyter-widgets/base",
            "top": null,
            "grid_column": null,
            "overflow_y": null,
            "overflow_x": null,
            "grid_auto_flow": null,
            "grid_area": null,
            "grid_template_columns": null,
            "flex": null,
            "_model_name": "LayoutModel",
            "justify_items": null,
            "grid_row": null,
            "max_height": null,
            "align_content": null,
            "visibility": null,
            "align_self": null,
            "height": null,
            "min_height": null,
            "padding": null,
            "grid_auto_rows": null,
            "grid_gap": null,
            "max_width": null,
            "order": null,
            "_view_module_version": "1.2.0",
            "grid_template_areas": null,
            "object_position": null,
            "object_fit": null,
            "grid_auto_columns": null,
            "margin": null,
            "display": null,
            "left": null
          }
        },
        "708bfe55ec1b46a48ca02cdb7dd9b5f4": {
          "model_module": "@jupyter-widgets/controls",
          "model_name": "HBoxModel",
          "state": {
            "_view_name": "HBoxView",
            "_dom_classes": [],
            "_model_name": "HBoxModel",
            "_view_module": "@jupyter-widgets/controls",
            "_model_module_version": "1.5.0",
            "_view_count": null,
            "_view_module_version": "1.5.0",
            "box_style": "",
            "layout": "IPY_MODEL_20933eb4c9be45d0b7e409a33f62450c",
            "_model_module": "@jupyter-widgets/controls",
            "children": [
              "IPY_MODEL_b98ea9bd75d44407bfa68164f08d3bb4",
              "IPY_MODEL_81d60010ae2a4fcfb54157838bc66563"
            ]
          }
        },
        "20933eb4c9be45d0b7e409a33f62450c": {
          "model_module": "@jupyter-widgets/base",
          "model_name": "LayoutModel",
          "state": {
            "_view_name": "LayoutView",
            "grid_template_rows": null,
            "right": null,
            "justify_content": null,
            "_view_module": "@jupyter-widgets/base",
            "overflow": null,
            "_model_module_version": "1.2.0",
            "_view_count": null,
            "flex_flow": null,
            "width": null,
            "min_width": null,
            "border": null,
            "align_items": null,
            "bottom": null,
            "_model_module": "@jupyter-widgets/base",
            "top": null,
            "grid_column": null,
            "overflow_y": null,
            "overflow_x": null,
            "grid_auto_flow": null,
            "grid_area": null,
            "grid_template_columns": null,
            "flex": null,
            "_model_name": "LayoutModel",
            "justify_items": null,
            "grid_row": null,
            "max_height": null,
            "align_content": null,
            "visibility": null,
            "align_self": null,
            "height": null,
            "min_height": null,
            "padding": null,
            "grid_auto_rows": null,
            "grid_gap": null,
            "max_width": null,
            "order": null,
            "_view_module_version": "1.2.0",
            "grid_template_areas": null,
            "object_position": null,
            "object_fit": null,
            "grid_auto_columns": null,
            "margin": null,
            "display": null,
            "left": null
          }
        },
        "b98ea9bd75d44407bfa68164f08d3bb4": {
          "model_module": "@jupyter-widgets/controls",
          "model_name": "FloatProgressModel",
          "state": {
            "_view_name": "ProgressView",
            "style": "IPY_MODEL_92648938ea014c2c8ca9ff3f12f1873f",
            "_dom_classes": [],
            "description": "100%",
            "_model_name": "FloatProgressModel",
            "bar_style": "success",
            "max": 375,
            "_view_module": "@jupyter-widgets/controls",
            "_model_module_version": "1.5.0",
            "value": 375,
            "_view_count": null,
            "_view_module_version": "1.5.0",
            "orientation": "horizontal",
            "min": 0,
            "description_tooltip": null,
            "_model_module": "@jupyter-widgets/controls",
            "layout": "IPY_MODEL_8c36b9a941464fc29d45290f9bf0b27c"
          }
        },
        "81d60010ae2a4fcfb54157838bc66563": {
          "model_module": "@jupyter-widgets/controls",
          "model_name": "HTMLModel",
          "state": {
            "_view_name": "HTMLView",
            "style": "IPY_MODEL_1727eac0f55c499c8ae43f9cc36142ef",
            "_dom_classes": [],
            "description": "",
            "_model_name": "HTMLModel",
            "placeholder": "​",
            "_view_module": "@jupyter-widgets/controls",
            "_model_module_version": "1.5.0",
            "value": " 375/375 [00:11&lt;00:00, 32.47it/s]",
            "_view_count": null,
            "_view_module_version": "1.5.0",
            "description_tooltip": null,
            "_model_module": "@jupyter-widgets/controls",
            "layout": "IPY_MODEL_2cdc0d8106dd401fbde3bea4bd4f82e2"
          }
        },
        "92648938ea014c2c8ca9ff3f12f1873f": {
          "model_module": "@jupyter-widgets/controls",
          "model_name": "ProgressStyleModel",
          "state": {
            "_view_name": "StyleView",
            "_model_name": "ProgressStyleModel",
            "description_width": "initial",
            "_view_module": "@jupyter-widgets/base",
            "_model_module_version": "1.5.0",
            "_view_count": null,
            "_view_module_version": "1.2.0",
            "bar_color": null,
            "_model_module": "@jupyter-widgets/controls"
          }
        },
        "8c36b9a941464fc29d45290f9bf0b27c": {
          "model_module": "@jupyter-widgets/base",
          "model_name": "LayoutModel",
          "state": {
            "_view_name": "LayoutView",
            "grid_template_rows": null,
            "right": null,
            "justify_content": null,
            "_view_module": "@jupyter-widgets/base",
            "overflow": null,
            "_model_module_version": "1.2.0",
            "_view_count": null,
            "flex_flow": null,
            "width": null,
            "min_width": null,
            "border": null,
            "align_items": null,
            "bottom": null,
            "_model_module": "@jupyter-widgets/base",
            "top": null,
            "grid_column": null,
            "overflow_y": null,
            "overflow_x": null,
            "grid_auto_flow": null,
            "grid_area": null,
            "grid_template_columns": null,
            "flex": null,
            "_model_name": "LayoutModel",
            "justify_items": null,
            "grid_row": null,
            "max_height": null,
            "align_content": null,
            "visibility": null,
            "align_self": null,
            "height": null,
            "min_height": null,
            "padding": null,
            "grid_auto_rows": null,
            "grid_gap": null,
            "max_width": null,
            "order": null,
            "_view_module_version": "1.2.0",
            "grid_template_areas": null,
            "object_position": null,
            "object_fit": null,
            "grid_auto_columns": null,
            "margin": null,
            "display": null,
            "left": null
          }
        },
        "1727eac0f55c499c8ae43f9cc36142ef": {
          "model_module": "@jupyter-widgets/controls",
          "model_name": "DescriptionStyleModel",
          "state": {
            "_view_name": "StyleView",
            "_model_name": "DescriptionStyleModel",
            "description_width": "",
            "_view_module": "@jupyter-widgets/base",
            "_model_module_version": "1.5.0",
            "_view_count": null,
            "_view_module_version": "1.2.0",
            "_model_module": "@jupyter-widgets/controls"
          }
        },
        "2cdc0d8106dd401fbde3bea4bd4f82e2": {
          "model_module": "@jupyter-widgets/base",
          "model_name": "LayoutModel",
          "state": {
            "_view_name": "LayoutView",
            "grid_template_rows": null,
            "right": null,
            "justify_content": null,
            "_view_module": "@jupyter-widgets/base",
            "overflow": null,
            "_model_module_version": "1.2.0",
            "_view_count": null,
            "flex_flow": null,
            "width": null,
            "min_width": null,
            "border": null,
            "align_items": null,
            "bottom": null,
            "_model_module": "@jupyter-widgets/base",
            "top": null,
            "grid_column": null,
            "overflow_y": null,
            "overflow_x": null,
            "grid_auto_flow": null,
            "grid_area": null,
            "grid_template_columns": null,
            "flex": null,
            "_model_name": "LayoutModel",
            "justify_items": null,
            "grid_row": null,
            "max_height": null,
            "align_content": null,
            "visibility": null,
            "align_self": null,
            "height": null,
            "min_height": null,
            "padding": null,
            "grid_auto_rows": null,
            "grid_gap": null,
            "max_width": null,
            "order": null,
            "_view_module_version": "1.2.0",
            "grid_template_areas": null,
            "object_position": null,
            "object_fit": null,
            "grid_auto_columns": null,
            "margin": null,
            "display": null,
            "left": null
          }
        },
        "09579ce48b0d49cbb8d4ffa66bf6e588": {
          "model_module": "@jupyter-widgets/controls",
          "model_name": "HBoxModel",
          "state": {
            "_view_name": "HBoxView",
            "_dom_classes": [],
            "_model_name": "HBoxModel",
            "_view_module": "@jupyter-widgets/controls",
            "_model_module_version": "1.5.0",
            "_view_count": null,
            "_view_module_version": "1.5.0",
            "box_style": "",
            "layout": "IPY_MODEL_07031ba4631b42bcbe6437c291baf3aa",
            "_model_module": "@jupyter-widgets/controls",
            "children": [
              "IPY_MODEL_557876f2727945e188b47155ff71e8e3",
              "IPY_MODEL_f92044693f7d48d5abe1f9835ebe7055"
            ]
          }
        },
        "07031ba4631b42bcbe6437c291baf3aa": {
          "model_module": "@jupyter-widgets/base",
          "model_name": "LayoutModel",
          "state": {
            "_view_name": "LayoutView",
            "grid_template_rows": null,
            "right": null,
            "justify_content": null,
            "_view_module": "@jupyter-widgets/base",
            "overflow": null,
            "_model_module_version": "1.2.0",
            "_view_count": null,
            "flex_flow": null,
            "width": null,
            "min_width": null,
            "border": null,
            "align_items": null,
            "bottom": null,
            "_model_module": "@jupyter-widgets/base",
            "top": null,
            "grid_column": null,
            "overflow_y": null,
            "overflow_x": null,
            "grid_auto_flow": null,
            "grid_area": null,
            "grid_template_columns": null,
            "flex": null,
            "_model_name": "LayoutModel",
            "justify_items": null,
            "grid_row": null,
            "max_height": null,
            "align_content": null,
            "visibility": null,
            "align_self": null,
            "height": null,
            "min_height": null,
            "padding": null,
            "grid_auto_rows": null,
            "grid_gap": null,
            "max_width": null,
            "order": null,
            "_view_module_version": "1.2.0",
            "grid_template_areas": null,
            "object_position": null,
            "object_fit": null,
            "grid_auto_columns": null,
            "margin": null,
            "display": null,
            "left": null
          }
        },
        "557876f2727945e188b47155ff71e8e3": {
          "model_module": "@jupyter-widgets/controls",
          "model_name": "FloatProgressModel",
          "state": {
            "_view_name": "ProgressView",
            "style": "IPY_MODEL_0d7bde96895f4d13a986a458162a47ad",
            "_dom_classes": [],
            "description": "100%",
            "_model_name": "FloatProgressModel",
            "bar_style": "success",
            "max": 375,
            "_view_module": "@jupyter-widgets/controls",
            "_model_module_version": "1.5.0",
            "value": 375,
            "_view_count": null,
            "_view_module_version": "1.5.0",
            "orientation": "horizontal",
            "min": 0,
            "description_tooltip": null,
            "_model_module": "@jupyter-widgets/controls",
            "layout": "IPY_MODEL_7b55d5e5525f4c6993236cddfaccfbb8"
          }
        },
        "f92044693f7d48d5abe1f9835ebe7055": {
          "model_module": "@jupyter-widgets/controls",
          "model_name": "HTMLModel",
          "state": {
            "_view_name": "HTMLView",
            "style": "IPY_MODEL_387a3b7ab4764d249eed800a4038de03",
            "_dom_classes": [],
            "description": "",
            "_model_name": "HTMLModel",
            "placeholder": "​",
            "_view_module": "@jupyter-widgets/controls",
            "_model_module_version": "1.5.0",
            "value": " 375/375 [00:11&lt;00:00, 33.63it/s]",
            "_view_count": null,
            "_view_module_version": "1.5.0",
            "description_tooltip": null,
            "_model_module": "@jupyter-widgets/controls",
            "layout": "IPY_MODEL_721d67889ae84514b9c004ff0d8ea6f4"
          }
        },
        "0d7bde96895f4d13a986a458162a47ad": {
          "model_module": "@jupyter-widgets/controls",
          "model_name": "ProgressStyleModel",
          "state": {
            "_view_name": "StyleView",
            "_model_name": "ProgressStyleModel",
            "description_width": "initial",
            "_view_module": "@jupyter-widgets/base",
            "_model_module_version": "1.5.0",
            "_view_count": null,
            "_view_module_version": "1.2.0",
            "bar_color": null,
            "_model_module": "@jupyter-widgets/controls"
          }
        },
        "7b55d5e5525f4c6993236cddfaccfbb8": {
          "model_module": "@jupyter-widgets/base",
          "model_name": "LayoutModel",
          "state": {
            "_view_name": "LayoutView",
            "grid_template_rows": null,
            "right": null,
            "justify_content": null,
            "_view_module": "@jupyter-widgets/base",
            "overflow": null,
            "_model_module_version": "1.2.0",
            "_view_count": null,
            "flex_flow": null,
            "width": null,
            "min_width": null,
            "border": null,
            "align_items": null,
            "bottom": null,
            "_model_module": "@jupyter-widgets/base",
            "top": null,
            "grid_column": null,
            "overflow_y": null,
            "overflow_x": null,
            "grid_auto_flow": null,
            "grid_area": null,
            "grid_template_columns": null,
            "flex": null,
            "_model_name": "LayoutModel",
            "justify_items": null,
            "grid_row": null,
            "max_height": null,
            "align_content": null,
            "visibility": null,
            "align_self": null,
            "height": null,
            "min_height": null,
            "padding": null,
            "grid_auto_rows": null,
            "grid_gap": null,
            "max_width": null,
            "order": null,
            "_view_module_version": "1.2.0",
            "grid_template_areas": null,
            "object_position": null,
            "object_fit": null,
            "grid_auto_columns": null,
            "margin": null,
            "display": null,
            "left": null
          }
        },
        "387a3b7ab4764d249eed800a4038de03": {
          "model_module": "@jupyter-widgets/controls",
          "model_name": "DescriptionStyleModel",
          "state": {
            "_view_name": "StyleView",
            "_model_name": "DescriptionStyleModel",
            "description_width": "",
            "_view_module": "@jupyter-widgets/base",
            "_model_module_version": "1.5.0",
            "_view_count": null,
            "_view_module_version": "1.2.0",
            "_model_module": "@jupyter-widgets/controls"
          }
        },
        "721d67889ae84514b9c004ff0d8ea6f4": {
          "model_module": "@jupyter-widgets/base",
          "model_name": "LayoutModel",
          "state": {
            "_view_name": "LayoutView",
            "grid_template_rows": null,
            "right": null,
            "justify_content": null,
            "_view_module": "@jupyter-widgets/base",
            "overflow": null,
            "_model_module_version": "1.2.0",
            "_view_count": null,
            "flex_flow": null,
            "width": null,
            "min_width": null,
            "border": null,
            "align_items": null,
            "bottom": null,
            "_model_module": "@jupyter-widgets/base",
            "top": null,
            "grid_column": null,
            "overflow_y": null,
            "overflow_x": null,
            "grid_auto_flow": null,
            "grid_area": null,
            "grid_template_columns": null,
            "flex": null,
            "_model_name": "LayoutModel",
            "justify_items": null,
            "grid_row": null,
            "max_height": null,
            "align_content": null,
            "visibility": null,
            "align_self": null,
            "height": null,
            "min_height": null,
            "padding": null,
            "grid_auto_rows": null,
            "grid_gap": null,
            "max_width": null,
            "order": null,
            "_view_module_version": "1.2.0",
            "grid_template_areas": null,
            "object_position": null,
            "object_fit": null,
            "grid_auto_columns": null,
            "margin": null,
            "display": null,
            "left": null
          }
        },
        "fd88d1fe4ab546b08b69c520f5b175bb": {
          "model_module": "@jupyter-widgets/controls",
          "model_name": "HBoxModel",
          "state": {
            "_view_name": "HBoxView",
            "_dom_classes": [],
            "_model_name": "HBoxModel",
            "_view_module": "@jupyter-widgets/controls",
            "_model_module_version": "1.5.0",
            "_view_count": null,
            "_view_module_version": "1.5.0",
            "box_style": "",
            "layout": "IPY_MODEL_a7dea550bbe04ce4a71cc5c69b53b0e1",
            "_model_module": "@jupyter-widgets/controls",
            "children": [
              "IPY_MODEL_5b97b173a5e9411c88dd3a5e5de1cd60",
              "IPY_MODEL_df6cd42dbe494c928a909e8b2a657833"
            ]
          }
        },
        "a7dea550bbe04ce4a71cc5c69b53b0e1": {
          "model_module": "@jupyter-widgets/base",
          "model_name": "LayoutModel",
          "state": {
            "_view_name": "LayoutView",
            "grid_template_rows": null,
            "right": null,
            "justify_content": null,
            "_view_module": "@jupyter-widgets/base",
            "overflow": null,
            "_model_module_version": "1.2.0",
            "_view_count": null,
            "flex_flow": null,
            "width": null,
            "min_width": null,
            "border": null,
            "align_items": null,
            "bottom": null,
            "_model_module": "@jupyter-widgets/base",
            "top": null,
            "grid_column": null,
            "overflow_y": null,
            "overflow_x": null,
            "grid_auto_flow": null,
            "grid_area": null,
            "grid_template_columns": null,
            "flex": null,
            "_model_name": "LayoutModel",
            "justify_items": null,
            "grid_row": null,
            "max_height": null,
            "align_content": null,
            "visibility": null,
            "align_self": null,
            "height": null,
            "min_height": null,
            "padding": null,
            "grid_auto_rows": null,
            "grid_gap": null,
            "max_width": null,
            "order": null,
            "_view_module_version": "1.2.0",
            "grid_template_areas": null,
            "object_position": null,
            "object_fit": null,
            "grid_auto_columns": null,
            "margin": null,
            "display": null,
            "left": null
          }
        },
        "5b97b173a5e9411c88dd3a5e5de1cd60": {
          "model_module": "@jupyter-widgets/controls",
          "model_name": "FloatProgressModel",
          "state": {
            "_view_name": "ProgressView",
            "style": "IPY_MODEL_5b33836b0bd843ac90d25b44aef4cab3",
            "_dom_classes": [],
            "description": "100%",
            "_model_name": "FloatProgressModel",
            "bar_style": "success",
            "max": 375,
            "_view_module": "@jupyter-widgets/controls",
            "_model_module_version": "1.5.0",
            "value": 375,
            "_view_count": null,
            "_view_module_version": "1.5.0",
            "orientation": "horizontal",
            "min": 0,
            "description_tooltip": null,
            "_model_module": "@jupyter-widgets/controls",
            "layout": "IPY_MODEL_790fab3f17344490b66a5b2a8ca60528"
          }
        },
        "df6cd42dbe494c928a909e8b2a657833": {
          "model_module": "@jupyter-widgets/controls",
          "model_name": "HTMLModel",
          "state": {
            "_view_name": "HTMLView",
            "style": "IPY_MODEL_c72f59fe270f419187ea3ec0bd9e2c71",
            "_dom_classes": [],
            "description": "",
            "_model_name": "HTMLModel",
            "placeholder": "​",
            "_view_module": "@jupyter-widgets/controls",
            "_model_module_version": "1.5.0",
            "value": " 375/375 [00:18&lt;00:00, 19.79it/s]",
            "_view_count": null,
            "_view_module_version": "1.5.0",
            "description_tooltip": null,
            "_model_module": "@jupyter-widgets/controls",
            "layout": "IPY_MODEL_dff3f4aeaa0d484f9895de60403b8698"
          }
        },
        "5b33836b0bd843ac90d25b44aef4cab3": {
          "model_module": "@jupyter-widgets/controls",
          "model_name": "ProgressStyleModel",
          "state": {
            "_view_name": "StyleView",
            "_model_name": "ProgressStyleModel",
            "description_width": "initial",
            "_view_module": "@jupyter-widgets/base",
            "_model_module_version": "1.5.0",
            "_view_count": null,
            "_view_module_version": "1.2.0",
            "bar_color": null,
            "_model_module": "@jupyter-widgets/controls"
          }
        },
        "790fab3f17344490b66a5b2a8ca60528": {
          "model_module": "@jupyter-widgets/base",
          "model_name": "LayoutModel",
          "state": {
            "_view_name": "LayoutView",
            "grid_template_rows": null,
            "right": null,
            "justify_content": null,
            "_view_module": "@jupyter-widgets/base",
            "overflow": null,
            "_model_module_version": "1.2.0",
            "_view_count": null,
            "flex_flow": null,
            "width": null,
            "min_width": null,
            "border": null,
            "align_items": null,
            "bottom": null,
            "_model_module": "@jupyter-widgets/base",
            "top": null,
            "grid_column": null,
            "overflow_y": null,
            "overflow_x": null,
            "grid_auto_flow": null,
            "grid_area": null,
            "grid_template_columns": null,
            "flex": null,
            "_model_name": "LayoutModel",
            "justify_items": null,
            "grid_row": null,
            "max_height": null,
            "align_content": null,
            "visibility": null,
            "align_self": null,
            "height": null,
            "min_height": null,
            "padding": null,
            "grid_auto_rows": null,
            "grid_gap": null,
            "max_width": null,
            "order": null,
            "_view_module_version": "1.2.0",
            "grid_template_areas": null,
            "object_position": null,
            "object_fit": null,
            "grid_auto_columns": null,
            "margin": null,
            "display": null,
            "left": null
          }
        },
        "c72f59fe270f419187ea3ec0bd9e2c71": {
          "model_module": "@jupyter-widgets/controls",
          "model_name": "DescriptionStyleModel",
          "state": {
            "_view_name": "StyleView",
            "_model_name": "DescriptionStyleModel",
            "description_width": "",
            "_view_module": "@jupyter-widgets/base",
            "_model_module_version": "1.5.0",
            "_view_count": null,
            "_view_module_version": "1.2.0",
            "_model_module": "@jupyter-widgets/controls"
          }
        },
        "dff3f4aeaa0d484f9895de60403b8698": {
          "model_module": "@jupyter-widgets/base",
          "model_name": "LayoutModel",
          "state": {
            "_view_name": "LayoutView",
            "grid_template_rows": null,
            "right": null,
            "justify_content": null,
            "_view_module": "@jupyter-widgets/base",
            "overflow": null,
            "_model_module_version": "1.2.0",
            "_view_count": null,
            "flex_flow": null,
            "width": null,
            "min_width": null,
            "border": null,
            "align_items": null,
            "bottom": null,
            "_model_module": "@jupyter-widgets/base",
            "top": null,
            "grid_column": null,
            "overflow_y": null,
            "overflow_x": null,
            "grid_auto_flow": null,
            "grid_area": null,
            "grid_template_columns": null,
            "flex": null,
            "_model_name": "LayoutModel",
            "justify_items": null,
            "grid_row": null,
            "max_height": null,
            "align_content": null,
            "visibility": null,
            "align_self": null,
            "height": null,
            "min_height": null,
            "padding": null,
            "grid_auto_rows": null,
            "grid_gap": null,
            "max_width": null,
            "order": null,
            "_view_module_version": "1.2.0",
            "grid_template_areas": null,
            "object_position": null,
            "object_fit": null,
            "grid_auto_columns": null,
            "margin": null,
            "display": null,
            "left": null
          }
        }
      }
    }
  },
  "cells": [
    {
      "cell_type": "markdown",
      "metadata": {
        "id": "gau9xEXMGY8s"
      },
      "source": [
        "# CS 447 HW4 - Using Attention for Neural Machine Translation\n",
        "In this notebook we are going to perform machine translation using a deep learning based approach and attention mechanism.\n",
        "\n",
        "Specifically, we are going to train a sequence to sequence model for Spanish to English translation.  We will use Sequence to Sequence Models for this Assignment. In this assignment you only need to implement the encoder and decoder, we implement all the data loading for you. Please **refer** to the following resources for more details:\n",
        "\n",
        "1.   https://papers.nips.cc/paper/5346-sequence-to-sequence-learning-with-neural-networks.pdf\n",
        "2.   https://pytorch.org/tutorials/intermediate/seq2seq_translation_tutorial.html\n",
        "3. https://arxiv.org/pdf/1409.0473.pdf\n",
        "\n"
      ]
    },
    {
      "cell_type": "code",
      "metadata": {
        "id": "G5IkpbuQllRy",
        "colab": {
          "base_uri": "https://localhost:8080/"
        },
        "outputId": "aef81531-0d1f-4614-9491-275590900058"
      },
      "source": [
        "from google.colab import drive \n",
        "drive.mount('/content/gdrive')\n",
        "import os\n",
        "os.chdir(\"gdrive/My Drive/Colab Notebooks/NLP\")"
      ],
      "execution_count": 1,
      "outputs": [
        {
          "output_type": "stream",
          "text": [
            "Mounted at /content/gdrive\n"
          ],
          "name": "stdout"
        }
      ]
    },
    {
      "cell_type": "code",
      "metadata": {
        "id": "H9mf5x3zHp1A"
      },
      "source": [
        "from collections import defaultdict\n",
        "import nltk\n",
        "from nltk.translate.bleu_score import sentence_bleu, SmoothingFunction, corpus_bleu\n",
        "import numpy as np\n",
        "import pandas as pd\n",
        "import pickle\n",
        "import re\n",
        "import time\n",
        "import torch\n",
        "import torch.nn as nn\n",
        "import torch.nn.functional as F\n",
        "from torch.nn.utils.rnn import pack_padded_sequence, pad_packed_sequence\n",
        "from torch.utils.data import Dataset, DataLoader\n",
        "from tqdm.notebook import tqdm\n",
        "import unicodedata\n",
        "\n",
        "if __name__ == '__main__':\n",
        "    device = torch.device('cuda' if torch.cuda.is_available() else 'cpu')"
      ],
      "execution_count": 2,
      "outputs": []
    },
    {
      "cell_type": "markdown",
      "metadata": {
        "id": "yvR1U28i6Itb"
      },
      "source": [
        "# Helper Functions"
      ]
    },
    {
      "cell_type": "code",
      "metadata": {
        "id": "k_WR8vEGMQyS"
      },
      "source": [
        "# Converts the unicode file to ascii\n",
        "def unicode_to_ascii(s):\n",
        "    \"\"\"Normalizes latin chars with accent to their canonical decomposition\"\"\"\n",
        "    return ''.join(c for c in unicodedata.normalize('NFD', s)\n",
        "        if unicodedata.category(c) != 'Mn')\n",
        "\n",
        "\n",
        "# Preprocessing the sentence to add the start, end tokens and make them lower-case\n",
        "def preprocess_sentence(w):\n",
        "    w = unicode_to_ascii(w.lower().strip())\n",
        "    w = re.sub(r'([?.!,¿])', r' \\1 ', w)\n",
        "    w = re.sub(r'[\" \"]+', ' ', w)\n",
        "\n",
        "    w = re.sub(r'[^a-zA-Z?.!,¿]+', ' ', w)\n",
        "    \n",
        "    w = w.rstrip().strip()\n",
        "    w = '<start> ' + w + ' <end>'\n",
        "    return w\n",
        "\n",
        "\n",
        "def max_length(tensor):\n",
        "    return max(len(t) for t in tensor)\n",
        "\n",
        "\n",
        "def pad_sequences(x, max_len):\n",
        "    padded = np.zeros((max_len), dtype=np.int64)\n",
        "    if len(x) > max_len:\n",
        "        padded[:] = x[:max_len]\n",
        "    else:\n",
        "        padded[:len(x)] = x\n",
        "    return padded\n",
        "\n",
        "\n",
        "def preprocess_data_to_tensor(dataframe, inp_lang, targ_lang):\n",
        "    # Vectorize the input and target languages\n",
        "    input_tensor = [[inp_lang.word2idx[s if s in inp_lang.vocab else '<unk>'] for s in es.split(' ')] for es in dataframe['es'].values.tolist()]\n",
        "    target_tensor = [[targ_lang.word2idx[s if s in targ_lang.vocab else '<unk>'] for s in eng.split(' ')] for eng in dataframe['eng'].values.tolist()]\n",
        "\n",
        "    # calculate the max_length of input and output tensor for padding\n",
        "    max_length_inp, max_length_tar = max_length(input_tensor), max_length(target_tensor)\n",
        "    print('max_length_inp: {}, max_length_tar: {}'.format(max_length_inp, max_length_tar))\n",
        "\n",
        "    # pad all the sentences in the dataset with the max_length\n",
        "    input_tensor = [pad_sequences(x, max_length_inp) for x in input_tensor]\n",
        "    target_tensor = [pad_sequences(x, max_length_tar) for x in target_tensor]\n",
        "\n",
        "    return input_tensor, target_tensor, max_length_inp, max_length_tar\n",
        "\n",
        "\n",
        "def train_val_split(input_tensor, target_tensor):\n",
        "    \"\"\"Creating training and test/val sets using an 80-20 split\"\"\"\n",
        "    total_num_examples = len(input_tensor)\n",
        "    num_val = int(total_num_examples/5)\n",
        "    num_train = total_num_examples - num_val\n",
        "    \n",
        "    input_tensor_train, input_tensor_val = input_tensor[:num_train], input_tensor[num_train:]\n",
        "    target_tensor_train, target_tensor_val = target_tensor[:num_train], target_tensor[num_train:]\n",
        "\n",
        "    assert len(input_tensor_train) == num_train\n",
        "    assert len(target_tensor_train) == num_train\n",
        "    assert len(input_tensor_val) == num_val\n",
        "    assert len(target_tensor_val) == num_val\n",
        "\n",
        "    return input_tensor_train, input_tensor_val, target_tensor_train, target_tensor_val\n",
        "\n",
        "\n",
        "def sort_batch(X, y, lengths):\n",
        "    \"\"\"sort batch function to be able to use with pad_packed_sequence\"\"\"\n",
        "    lengths, indx = lengths.sort(dim=0, descending=True)\n",
        "    X = X[indx]\n",
        "    y = y[indx]\n",
        "    return X.transpose(0,1), y, lengths # transpose (batch x seq) to (seq x batch)"
      ],
      "execution_count": 3,
      "outputs": []
    },
    {
      "cell_type": "markdown",
      "metadata": {
        "id": "-XH8nu0ojQpt"
      },
      "source": [
        "# Download The Data\n",
        "\n",
        "Here we will download the translation data. We will learn a model to translate Spanish to English.\n",
        "\n",
        "NOTE: Comment all lines in the below cell before submitting your code. \n",
        "These statement is only valid in a Notebook file and not in a Python .py file"
      ]
    },
    {
      "cell_type": "code",
      "metadata": {
        "id": "KtyBFlMKIg7g",
        "colab": {
          "base_uri": "https://localhost:8080/"
        },
        "outputId": "0fabfa2e-0cc3-4b48-a289-1693cdf6d425"
      },
      "source": [
        "# NOTE: Comment all 3 lines in the below cell before submitting your code to gradescope.\n",
        "\"\"\"\n",
        "if __name__ == '__main__':\n",
        "    wget http://www.manythings.org/anki/spa-eng.zip\n",
        "    unzip -o spa-eng.zip\n",
        "\"\"\""
      ],
      "execution_count": null,
      "outputs": [
        {
          "output_type": "stream",
          "text": [
            "--2020-11-24 04:09:55--  http://www.manythings.org/anki/spa-eng.zip\n",
            "Resolving www.manythings.org (www.manythings.org)... 104.24.108.196, 172.67.173.198, 104.24.109.196, ...\n",
            "Connecting to www.manythings.org (www.manythings.org)|104.24.108.196|:80... connected.\n",
            "HTTP request sent, awaiting response... 200 OK\n",
            "Length: 4845402 (4.6M) [application/zip]\n",
            "Saving to: ‘spa-eng.zip.1’\n",
            "\n",
            "spa-eng.zip.1       100%[===================>]   4.62M  13.2MB/s    in 0.4s    \n",
            "\n",
            "2020-11-24 04:09:55 (13.2 MB/s) - ‘spa-eng.zip.1’ saved [4845402/4845402]\n",
            "\n",
            "Archive:  spa-eng.zip\n",
            "  inflating: _about.txt              \n",
            "  inflating: spa.txt                 \n"
          ],
          "name": "stdout"
        }
      ]
    },
    {
      "cell_type": "code",
      "metadata": {
        "id": "4WNjizED6eFI",
        "colab": {
          "base_uri": "https://localhost:8080/"
        },
        "outputId": "295df18f-de62-496f-fcb0-3496e5754054"
      },
      "source": [
        "if __name__ == '__main__':\n",
        "    lines = open('spa.txt', encoding='UTF-8').read().strip().split('\\n')\n",
        "    total_num_examples = 30000 \n",
        "    original_word_pairs = [[w for w in l.split('\\t')][:2] for l in lines[:total_num_examples]]\n",
        "    data = pd.DataFrame(original_word_pairs, columns=['eng', 'es'])\n",
        "    print(data) # visualizing the data"
      ],
      "execution_count": 4,
      "outputs": [
        {
          "output_type": "stream",
          "text": [
            "                          eng                        es\n",
            "0                         Go.                       Ve.\n",
            "1                         Go.                     Vete.\n",
            "2                         Go.                     Vaya.\n",
            "3                         Go.                   Váyase.\n",
            "4                         Hi.                     Hola.\n",
            "...                       ...                       ...\n",
            "29995  It's what you deserve.     Es lo que te mereces.\n",
            "29996  It's your only chance.  Es tu única oportunidad.\n",
            "29997  It's your special day.       Es tu día especial.\n",
            "29998  Jupiter is very large.    Júpiter es muy grande.\n",
            "29999  Just a moment, please.    Un momento, por favor.\n",
            "\n",
            "[30000 rows x 2 columns]\n"
          ],
          "name": "stdout"
        }
      ]
    },
    {
      "cell_type": "code",
      "metadata": {
        "id": "Mud7HbQUMUHB",
        "colab": {
          "base_uri": "https://localhost:8080/"
        },
        "outputId": "f7914480-a4e4-4e6c-a0b1-e3994937f75b"
      },
      "source": [
        "if __name__ == '__main__':\n",
        "    # Make sure YOU only run this once - if you run it twice it will mess up the data so you will have run the above cell again\n",
        "    # Now we do the preprocessing using pandas and lambdas\n",
        "    data['eng'] = data.eng.apply(lambda w: preprocess_sentence(w))\n",
        "    data['es'] = data.es.apply(lambda w: preprocess_sentence(w))\n",
        "    print(data) # visualizing the data"
      ],
      "execution_count": 5,
      "outputs": [
        {
          "output_type": "stream",
          "text": [
            "                                          eng                                       es\n",
            "0                          <start> go . <end>                       <start> ve . <end>\n",
            "1                          <start> go . <end>                     <start> vete . <end>\n",
            "2                          <start> go . <end>                     <start> vaya . <end>\n",
            "3                          <start> go . <end>                   <start> vayase . <end>\n",
            "4                          <start> hi . <end>                     <start> hola . <end>\n",
            "...                                       ...                                      ...\n",
            "29995   <start> it s what you deserve . <end>     <start> es lo que te mereces . <end>\n",
            "29996   <start> it s your only chance . <end>  <start> es tu unica oportunidad . <end>\n",
            "29997   <start> it s your special day . <end>       <start> es tu dia especial . <end>\n",
            "29998   <start> jupiter is very large . <end>    <start> jupiter es muy grande . <end>\n",
            "29999  <start> just a moment , please . <end>   <start> un momento , por favor . <end>\n",
            "\n",
            "[30000 rows x 2 columns]\n"
          ],
          "name": "stdout"
        }
      ]
    },
    {
      "cell_type": "markdown",
      "metadata": {
        "id": "IHJw_CyykmMp"
      },
      "source": [
        "# Vocabulary Class\n",
        "\n",
        "We create a class here for managing our vocabulary as we did in HW2. In this HW, we have a separate class for the vocabulary as we need 2 different vocabularies - one for English and one for Spanish."
      ]
    },
    {
      "cell_type": "code",
      "metadata": {
        "id": "1h4Q21azMW-T"
      },
      "source": [
        "class Vocab_Lang():\n",
        "    def __init__(self, vocab):\n",
        "        self.word2idx = {'<pad>': 0, '<unk>': 1}\n",
        "        self.idx2word = {0: '<pad>', 1: '<unk>'}\n",
        "        self.vocab = vocab\n",
        "        \n",
        "        for index, word in enumerate(self.vocab):\n",
        "            self.word2idx[word] = index + 2 # +2 because of <pad> and <unk> token\n",
        "            self.idx2word[index + 2] = word"
      ],
      "execution_count": 6,
      "outputs": []
    },
    {
      "cell_type": "markdown",
      "metadata": {
        "id": "2a2c34aFnPOP"
      },
      "source": [
        "# Dataloader for our Encoder and Decoder\n",
        "\n",
        "We prepare the dataloader and make sure the dataloader returns the source sentence, target sentence and the length of the source sentenc sampled from the training dataset."
      ]
    },
    {
      "cell_type": "code",
      "metadata": {
        "id": "c797aZAWMzrW"
      },
      "source": [
        "class MyData(Dataset):\n",
        "    def __init__(self, X, y):\n",
        "        self.length = torch.LongTensor([np.sum(1 - np.equal(x, 0)) for x in X])\n",
        "        self.data = torch.LongTensor(X)\n",
        "        self.target = torch.LongTensor(y)\n",
        "    \n",
        "    def __getitem__(self, index):\n",
        "        x = self.data[index]\n",
        "        y = self.target[index]\n",
        "        x_len = self.length[index]\n",
        "        return x, y, x_len\n",
        "  \n",
        "    def __len__(self):\n",
        "        return len(self.data)"
      ],
      "execution_count": 7,
      "outputs": []
    },
    {
      "cell_type": "markdown",
      "metadata": {
        "id": "VaH022cEy03q"
      },
      "source": [
        "# Train your model\n",
        "\n",
        "You will train your model here.\n",
        "*   Pass the source sentence and their corresponding lengths into the encoder\n",
        "*   Creating the decoder input using <start> tokens\n",
        "*   Now we find out the decoder outputs conditioned on the previous predicted word usually, but in our training we use teacher forcing. Read more about teacher forcing at https://machinelearningmastery.com/teacher-forcing-for-recurrent-neural-networks/\n",
        "\n",
        "\n",
        "# Evaluation\n",
        "\n",
        "*   We evaluate on the test set.\n",
        "*   In this evaluation, instead of using the concept of teacher forcing, we use the prediction of the decoder as the input to the decoder for the sequence of outputs.\n",
        "\n",
        "## Bleu Score Calculation for evaluation\n",
        "\n",
        "Read more about Bleu Score at :\n",
        "\n",
        "1.   https://en.wikipedia.org/wiki/BLEU\n",
        "2.   https://www.aclweb.org/anthology/P02-1040.pdf"
      ]
    },
    {
      "cell_type": "code",
      "metadata": {
        "id": "bp2rKJY4NIzx"
      },
      "source": [
        "def loss_function(real, pred):\n",
        "    \"\"\" Only consider non-zero inputs in the loss; mask needed \"\"\"\n",
        "    mask = real.ge(1).float()\n",
        "    \n",
        "    loss_ = F.cross_entropy(pred, real) * mask \n",
        "    return torch.mean(loss_)"
      ],
      "execution_count": 8,
      "outputs": []
    },
    {
      "cell_type": "code",
      "metadata": {
        "id": "i9663UYJNMgv"
      },
      "source": [
        "def train_model(encoder, decoder, dataset, optimizer, targ_lang, device, n_epochs=10):\n",
        "    for epoch in range(n_epochs):\n",
        "        start = time.time()\n",
        "        n_batch = 0\n",
        "        total_loss = 0\n",
        "        \n",
        "        encoder.train()\n",
        "        decoder.train()\n",
        "        \n",
        "        for inp, targ, inp_len in tqdm(dataset):\n",
        "            n_batch += 1\n",
        "            loss = 0\n",
        "            \n",
        "            xs, ys, lens = sort_batch(inp, targ, inp_len)\n",
        "            enc_output, enc_hidden = encoder(xs.to(device), lens)\n",
        "            dec_hidden = enc_hidden\n",
        "            \n",
        "            # use teacher forcing - feeding the target as the next input (via dec_input)\n",
        "            dec_input = torch.tensor([[targ_lang.word2idx['<start>']]] * BATCH_SIZE)\n",
        "        \n",
        "            # run code below for every timestep in the ys batch\n",
        "            for t in range(1, ys.size(1)):\n",
        "                predictions, dec_hidden, _ = decoder(dec_input.to(device), dec_hidden.to(device), enc_output.to(device))\n",
        "                loss += loss_function(ys[:, t].to(device), predictions.to(device))\n",
        "                dec_input = ys[:, t].unsqueeze(1)\n",
        "        \n",
        "            batch_loss = (loss / int(ys.size(1)))\n",
        "            total_loss += batch_loss\n",
        "            \n",
        "            optimizer.zero_grad()\n",
        "            \n",
        "            loss.backward()\n",
        "\n",
        "            ### update model parameters\n",
        "            optimizer.step()\n",
        "        \n",
        "        ### TODO: Save checkpoint for model (optional)\n",
        "        print('Epoch:{:2d}/{}\\t Loss:{:.4f} ({:.2f}s)'.format(epoch + 1, n_epochs, total_loss / n_batch, time.time() - start))\n",
        "\n",
        "    print('Model trained!')"
      ],
      "execution_count": 9,
      "outputs": []
    },
    {
      "cell_type": "code",
      "metadata": {
        "id": "1emvSSo0NRbQ"
      },
      "source": [
        "def get_reference_candidate(target, pred, targ_lang):\n",
        "    reference = list(target)\n",
        "    reference = [targ_lang.idx2word[s] for s in np.array(reference[1:])]\n",
        "    candidate = list(pred)\n",
        "    candidate = [targ_lang.idx2word[s] for s in np.array(candidate[1:])]\n",
        "    return reference, candidate\n",
        "\n",
        "\n",
        "def evaluate_model(encoder, decoder, val_dataset, target_tensor_val, max_length_tar, targ_lang, device):\n",
        "    batch_size = val_dataset.batch_size\n",
        "    n_batch = 0\n",
        "    total_loss = 0\n",
        "\n",
        "    encoder.eval()\n",
        "    decoder.eval()\n",
        "\n",
        "    final_output = torch.zeros((len(target_tensor_val), max_length_tar))\n",
        "    target_output = torch.zeros((len(target_tensor_val), max_length_tar))\n",
        "\n",
        "    with torch.no_grad():\n",
        "        for batch, (inp, targ, inp_len) in enumerate(val_dataset):\n",
        "            n_batch += 1\n",
        "            loss = 0\n",
        "            xs, ys, lens = sort_batch(inp, targ, inp_len)\n",
        "            enc_output, enc_hidden = encoder(xs.to(device), lens)\n",
        "            dec_hidden = enc_hidden\n",
        "            \n",
        "            dec_input = torch.tensor([[targ_lang.word2idx['<start>']]] * batch_size)\n",
        "            curr_output = torch.zeros((ys.size(0), ys.size(1)))\n",
        "            curr_output[:, 0] = dec_input.squeeze(1)\n",
        "\n",
        "            for t in range(1, ys.size(1)): # run code below for every timestep in the ys batch\n",
        "                predictions, dec_hidden, _ = decoder(dec_input.to(device), dec_hidden.to(device), enc_output.to(device))\n",
        "                loss += loss_function(ys[:, t].to(device), predictions.to(device))\n",
        "                dec_input = torch.argmax(predictions, dim=1).unsqueeze(1)\n",
        "                curr_output[:, t] = dec_input.squeeze(1)\n",
        "        \n",
        "            final_output[batch*batch_size:(batch+1)*batch_size] = curr_output\n",
        "            target_output[batch*batch_size:(batch+1)*batch_size] = targ\n",
        "            batch_loss = (loss / int(ys.size(1)))\n",
        "            total_loss += batch_loss\n",
        "\n",
        "        print('Loss {:.4f}'.format(total_loss / n_batch))\n",
        "    \n",
        "    # Compute Bleu scores\n",
        "    bleu_1 = 0.0\n",
        "    bleu_2 = 0.0\n",
        "    bleu_3 = 0.0\n",
        "    bleu_4 = 0.0\n",
        "\n",
        "    smoother = SmoothingFunction()\n",
        "    save_reference = []\n",
        "    save_candidate = []\n",
        "    for i in range(len(target_tensor_val)):\n",
        "        reference, candidate = get_reference_candidate(target_output[i], final_output[i], targ_lang)\n",
        "    \n",
        "        bleu_1 += sentence_bleu(reference, candidate, weights=(1,), smoothing_function=smoother.method1)\n",
        "        bleu_2 += sentence_bleu(reference, candidate, weights=(1/2, 1/2), smoothing_function=smoother.method1)\n",
        "        bleu_3 += sentence_bleu(reference, candidate, weights=(1/3, 1/3, 1/3), smoothing_function=smoother.method1)\n",
        "        bleu_4 += sentence_bleu(reference, candidate, weights=(1/4, 1/4, 1/4, 1/4), smoothing_function=smoother.method1)\n",
        "\n",
        "        save_reference.append(reference)\n",
        "        save_candidate.append(candidate)\n",
        "    \n",
        "    bleu_1 = bleu_1/len(target_tensor_val)\n",
        "    bleu_2 = bleu_2/len(target_tensor_val)\n",
        "    bleu_3 = bleu_3/len(target_tensor_val)\n",
        "    bleu_4 = bleu_4/len(target_tensor_val)\n",
        "\n",
        "    # bleu_1 = corpus_bleu(save_reference, save_candidate, weights=(1,), smoothing_function=smoother.method1)\n",
        "    # bleu_2 = corpus_bleu(save_reference, save_candidate, weights=(1/2, 1/2), smoothing_function=smoother.method1)\n",
        "    # bleu_3 = corpus_bleu(save_reference, save_candidate, weights=(1/3, 1/3, 1/3), smoothing_function=smoother.method1)\n",
        "    # bleu_4 = corpus_bleu(save_reference, save_candidate, weights=(1/4, 1/4, 1/4, 1/4), smoothing_function=smoother.method1)\n",
        "\n",
        "    print('BLEU 1-gram: %f' % (bleu_1))\n",
        "    print('BLEU 2-gram: %f' % (bleu_2))\n",
        "    print('BLEU 3-gram: %f' % (bleu_3))\n",
        "    print('BLEU 4-gram: %f' % (bleu_4))\n",
        "\n",
        "    return save_candidate"
      ],
      "execution_count": 10,
      "outputs": []
    },
    {
      "cell_type": "markdown",
      "metadata": {
        "id": "umSF6nAka57s"
      },
      "source": [
        "# Use Pretrained Embeddings\n",
        "\n",
        "The embedding used in HW2 was initialized with random vectors and learnt while training. Here we will use the FastText embedding method proposed by Facebook's AI Research lab to improve our translation result. Particularly, we will use an implementation from the gensim library to train the embedding of our corpus.\n",
        "\n",
        "Read more about FastText and gensim liberary:\n",
        "https://radimrehurek.com/gensim/models/fasttext.html#gensim.models.fasttext.FastText"
      ]
    },
    {
      "cell_type": "code",
      "metadata": {
        "id": "BA4lG_4fqL9U"
      },
      "source": [
        "from gensim.models import FastText"
      ],
      "execution_count": 11,
      "outputs": []
    },
    {
      "cell_type": "markdown",
      "metadata": {
        "id": "uW4jAq_CsN7z"
      },
      "source": [
        "# Train FastText Embeddings (Implement This)"
      ]
    },
    {
      "cell_type": "code",
      "metadata": {
        "id": "ChRig0iPrpUF"
      },
      "source": [
        "def compute_FastText_embeddings(pd_dataframe, embedding_dim=256):\n",
        "    \"\"\"\n",
        "    Given dataset (pd.DataFrame as used in the beginning), train FastText embeddings\n",
        "    Return FastText trained model and embeddings vectors (np array [2 + vocab_size, embedding_dim])\n",
        "    \"\"\"\n",
        "    print('Computing FastText Embeddings...')\n",
        "    sentences = [sen.split() for sen in pd_dataframe]\n",
        "    \n",
        "    ##### TODO:\n",
        "    # 1. create FastText model to learn `embedding_dim` sized embedding vectors\n",
        "    model = FastText(size=embedding_dim)\n",
        "\n",
        "    # 2. build vocab from sentences\n",
        "    model.build_vocab(sentences=sentences)\n",
        "\n",
        "    # 3. train model on sentences for 10 epochs\n",
        "    model.train(sentences=sentences, total_examples=model.corpus_count, total_words=model.corpus_total_words, epochs=10)\n",
        "\n",
        "    # 4. The sentences that we used to train the embedding don't contain '<pad>', or '<unk>' \n",
        "    # so add two all-zero or random rows in the beginning of the embedding numpy array for '<pad>' and '<unk>'\n",
        "    embedding_vec = model.wv.vectors # np.array [vocab_size, embedding_dim]\n",
        "    embedding_vec = np.concatenate((np.zeros((2, embedding_dim)), embedding_vec)) # np.array [2 + vocab_size, embedding_dim]\n",
        "\n",
        "    return model, embedding_vec"
      ],
      "execution_count": 12,
      "outputs": []
    },
    {
      "cell_type": "code",
      "metadata": {
        "id": "BrgMtGxHoqFi"
      },
      "source": [
        "if __name__ == '__main__':\n",
        "    # HYPERPARAMETERS (No need to experiemnt with other hyperparameters as these seem to work fine)\n",
        "    BATCH_SIZE = 64\n",
        "    EMBEDDING_DIM = 256\n",
        "    UNITS = 512\n",
        "    LEARNING_RATE = 0.001"
      ],
      "execution_count": 13,
      "outputs": []
    },
    {
      "cell_type": "code",
      "metadata": {
        "id": "ZtlsUrvzetQO",
        "colab": {
          "base_uri": "https://localhost:8080/"
        },
        "outputId": "9f3e5fbf-340a-4178-8d6d-67c9352bb16e"
      },
      "source": [
        "if __name__ == '__main__':\n",
        "    model_eng, embedding_eng = compute_FastText_embeddings(data['eng'], EMBEDDING_DIM)\n",
        "    model_es, embedding_es = compute_FastText_embeddings(data['es'], EMBEDDING_DIM)"
      ],
      "execution_count": 14,
      "outputs": [
        {
          "output_type": "stream",
          "text": [
            "Computing FastText Embeddings...\n",
            "Computing FastText Embeddings...\n"
          ],
          "name": "stdout"
        }
      ]
    },
    {
      "cell_type": "code",
      "metadata": {
        "id": "k6UsDOA2c-G6",
        "colab": {
          "base_uri": "https://localhost:8080/"
        },
        "outputId": "9861bbb8-aead-4a82-bcf3-f353cadac705"
      },
      "source": [
        "if __name__ == '__main__':\n",
        "    inp_lang = Vocab_Lang(model_es.wv.vocab)\n",
        "    targ_lang = Vocab_Lang(model_eng.wv.vocab)\n",
        "\n",
        "    input_tensor, target_tensor, max_length_inp, max_length_tar = preprocess_data_to_tensor(data, inp_lang, targ_lang)\n",
        "    input_tensor_train, input_tensor_val, target_tensor_train, target_tensor_val = train_val_split(input_tensor, target_tensor)\n",
        "\n",
        "    # create train and val datasets\n",
        "    train_dataset = MyData(input_tensor_train, target_tensor_train)\n",
        "    train_dataset = DataLoader(train_dataset, batch_size=BATCH_SIZE, drop_last=True, shuffle=True)\n",
        "\n",
        "    val_dataset = MyData(input_tensor_val, target_tensor_val)\n",
        "    val_dataset = DataLoader(val_dataset, batch_size=BATCH_SIZE, drop_last=True, shuffle=False)"
      ],
      "execution_count": 15,
      "outputs": [
        {
          "output_type": "stream",
          "text": [
            "max_length_inp: 16, max_length_tar: 11\n"
          ],
          "name": "stdout"
        }
      ]
    },
    {
      "cell_type": "code",
      "metadata": {
        "id": "zWO5ptloc-HL",
        "colab": {
          "base_uri": "https://localhost:8080/"
        },
        "outputId": "b4dfd6ad-d4e6-402f-ae54-8abfcde0d59d"
      },
      "source": [
        "if __name__ == '__main__':\n",
        "    inp, targ, inp_len = train_dataset.dataset[0]\n",
        "    print('Input:', inp)\n",
        "    print('Target:', targ)\n",
        "    print('Input Length:', inp_len)"
      ],
      "execution_count": 16,
      "outputs": [
        {
          "output_type": "stream",
          "text": [
            "Input: tensor([2, 3, 4, 5, 0, 0, 0, 0, 0, 0, 0, 0, 0, 0, 0, 0])\n",
            "Target: tensor([2, 3, 4, 5, 0, 0, 0, 0, 0, 0, 0])\n",
            "Input Length: tensor(4)\n"
          ],
          "name": "stdout"
        }
      ]
    },
    {
      "cell_type": "markdown",
      "metadata": {
        "id": "ENeT1fj_2f8t"
      },
      "source": [
        "# Encoder Model (Implement This)\n",
        "\n",
        "First we build a simple encoder model, which will be very similar to what you did in MP2. But instead of using a fully connected layer as the output, you should the return the output of your recurrent net (GRU/LSTM) as well as the hidden output. They are used in the decoder later.\n",
        "\n",
        "NOTE: Initialize your embedding layer with those embeddings. Refer to nn.Embedding.from_pretrained in https://pytorch.org/docs/stable/generated/torch.nn.Embedding.html\n"
      ]
    },
    {
      "cell_type": "code",
      "metadata": {
        "id": "_Sx4QQd3M4XK"
      },
      "source": [
        "class Encoder(nn.Module):\n",
        "    def __init__(self, pretrained_emb, vocab_size, embedding_dim, enc_units, num_layers=1):\n",
        "        super(Encoder, self).__init__()\n",
        "        ##### TODO:\n",
        "        # Convert pretrained_emb from np.array to torch.FloatTensor\n",
        "        pretrained_emb = torch.from_numpy(pretrained_emb)\n",
        "\n",
        "        # Initialize embedding layer with pretrained_emb\n",
        "        self.embedding = nn.Embedding.from_pretrained(pretrained_emb)\n",
        "        \n",
        "        # Initialize a single directional LSTM/GRU with 1 layers and batch_first=False\n",
        "        self.rnn = nn.GRU(embedding_dim, enc_units, num_layers)\n",
        "        \n",
        "    def forward(self, x, lens):\n",
        "        \"\"\"\n",
        "        Args:\n",
        "            x: [max_len, batch_size]\n",
        "            lens: [batch_size]\n",
        "\n",
        "        Returns:\n",
        "            unpacked_output: [max_len, batch_size, enc_units]\n",
        "            hidden_state: [1, batch_size, enc_units]\n",
        "        \n",
        "        Pseudo-code:\n",
        "        - Pass x through an embedding layer\n",
        "        - Make sure x is correctly packed before the recurrent net \n",
        "        - Pass it through the recurrent net\n",
        "        - Make sure the output is unpacked correctly\n",
        "        - Return hidden states from the recurrent net (for last time step) and the unpacked output\n",
        "        \"\"\"\n",
        "        x = self.embedding(x) # [max_len, batch_size, embedding_dim]\n",
        "\n",
        "        ##### TODO:\n",
        "        packed_x = pack_padded_sequence(x.float(), lens, batch_first=False)\n",
        "        output, hidden_state = self.rnn(packed_x)\n",
        "        unpacked_output, _ = pad_packed_sequence(output, batch_first=False)\n",
        "        return unpacked_output, hidden_state"
      ],
      "execution_count": 17,
      "outputs": []
    },
    {
      "cell_type": "markdown",
      "metadata": {
        "id": "vKwsEWpK2mcT"
      },
      "source": [
        "# Decoder Model (Implement This)\n",
        "We will implement a Decoder model which uses an attention mechanism. We will implement the decoder as provided in https://arxiv.org/pdf/1409.0473.pdf. **Please read** the links provided above first, at the start of this assignment for review. The pseudo-code for your implementation should be somewhat as follows:\n",
        "\n",
        "\n",
        "1.   The input is put through an encoder model which gives us the encoder output of shape *(max_length, batch_size, enc_units)* and the encoder hidden state of shape *(1, batch_size, enc_units)*. \n",
        "2.   Using the output your encoder you will calculate the score and subsequently the attention using following equations : \n",
        "<img src=\"https://www.tensorflow.org/images/seq2seq/attention_equation_0.jpg\" alt=\"attention equation 0\" width=\"800\">\n",
        "<img src=\"https://www.tensorflow.org/images/seq2seq/attention_equation_1.jpg\" alt=\"attention equation 1\" width=\"800\">\n",
        "\n",
        "3. Once you have calculated this attention vector, you pass the original input x through a embedding layer. The output of this embedding layer is concatenated with the attention vector which is passed into your RNN.\n",
        "\n",
        "4. Finally you pass the output of your RNN into a fully connected layer with an output size same as that vocab, to see the probability of the most possible word.\n",
        "\n",
        "NOTE: Initialize your embedding layer with those embeddings. Refer to nn.Embedding.from_pretrained in https://pytorch.org/docs/stable/generated/torch.nn.Embedding.html\n",
        "\n"
      ]
    },
    {
      "cell_type": "code",
      "metadata": {
        "id": "cw84M2LPM-PC"
      },
      "source": [
        "class Decoder(nn.Module):\n",
        "    def __init__(self, pretrained_emb, vocab_size, embedding_dim, dec_units, enc_units, num_layers=1):\n",
        "        super(Decoder, self).__init__()\n",
        "\n",
        "        ##### TODO:\n",
        "        # Convert pretrained_emb from np.array to torch.FloatTensor\n",
        "        pretrained_emb = torch.from_numpy(pretrained_emb)\n",
        "\n",
        "        # Initialize embedding layer with pretrained_emb\n",
        "        self.embedding = nn.Embedding.from_pretrained(pretrained_emb)\n",
        "        \n",
        "        # Layers to compute score based on the formula you pick\n",
        "        # We have tested the model using Bahdanau's additive style formula\n",
        "        #   but feel free to try the Loung's style also and see if you can get better performance\n",
        "        self.w1 = nn.Linear(dec_units, dec_units, bias=False)\n",
        "        self.w2 = nn.Linear(enc_units, dec_units, bias=False)\n",
        "        self.va = nn.Linear(dec_units, 1, bias=False)\n",
        "        self.wc = nn.Linear(enc_units*2, dec_units, bias=False)\n",
        "        \n",
        "        # Initialize a single directional LSTM/GRU with 1 layers and batch_first=True\n",
        "        # NOTE: input to your rnn would be a concatenation of two types of vectors\n",
        "        self.rnn = nn.GRU(embedding_dim + dec_units , dec_units, num_layers, batch_first=True)\n",
        "        \n",
        "        # Fully Connected Layer\n",
        "        self.fc = nn.Linear(dec_units, vocab_size)\n",
        "    \n",
        "    def forward(self, x, hidden, enc_output):\n",
        "        \"\"\"\n",
        "        Args:\n",
        "            x: [batch_size, 1]\n",
        "            hidden: [1, batch_size, enc_units]\n",
        "            enc_output: [max_len, batch_size, enc_units]\n",
        "\n",
        "        Returns:\n",
        "            fc_out: [batch_size, vocab_size]\n",
        "            hidden_state [1, batch_size, dec_units]\n",
        "            attention_weights: [batch_size, max_len, 1]\n",
        "\n",
        "        Pseudo-code:\n",
        "        - Calculate the score using the formula shown above using encoder output and hidden output. \n",
        "            Note h_t is the hidden output of the decoder and h_s is the encoder output in the formula\n",
        "        - Calculate the attention weights using softmax and passing through V - which can be implemented as a fully connected layer\n",
        "        - Finally find c_t which is a context vector where the shape of context_vector should be (batch_size, hidden_size)\n",
        "        - You need to unsqueeze the context_vector for concatenating with x_embedding as listed in Point 3 above\n",
        "        - Pass this concatenated tensor to the RNN and follow as specified in Point 4 above\n",
        "        - Return (i)  output of your fc layer (takes output of your RNN as its input (might have to reshape it first))\n",
        "        -        (ii) hidden states from the recurrent net (for last time step)\n",
        "        -        (ii) attention weights\n",
        "        \"\"\"\n",
        "        hidden = hidden.permute(1, 0, 2) # [batch_size, 1, enc_units]\n",
        "        enc_output = enc_output.permute(1, 0, 2) # [batch_size, max_len, enc_units]\n",
        "\n",
        "        ##### TODO:\n",
        "        score = self.va(torch.tanh(self.w1(hidden) + self.w2(enc_output)))  # [batch_size, max_len, 1]\n",
        "        score = score.squeeze(2).unsqueeze(1) \n",
        "        attention_weights = F.softmax(score, dim=-1) # [batch_size, 1, max_len]\n",
        "        context_vector = torch.bmm(attention_weights, enc_output) # [batch_size, 1, enc_units]\n",
        "        attention_vector = torch.tanh(self.wc(torch.cat((context_vector, hidden), dim=2))) # [batch_size, 1, dec_units]\n",
        "\n",
        "        x_embedding = self.embedding(x)\n",
        "        input = torch.cat((attention_vector, x_embedding.float()), dim=2) # [batch_size, 1, dec_units + embed_dim]\n",
        "        hidden = hidden.permute(1, 0, 2)\n",
        "        output, hidden_state = self.rnn(input, hidden)\n",
        "        fc_out = self.fc(output.squeeze(1))\n",
        "        return fc_out, hidden_state, attention_weights"
      ],
      "execution_count": 18,
      "outputs": []
    },
    {
      "cell_type": "code",
      "metadata": {
        "id": "IjbsUkcpNK9W",
        "colab": {
          "base_uri": "https://localhost:8080/"
        },
        "outputId": "9f02aa9a-4259-4dac-e304-8bcbfe293eb7"
      },
      "source": [
        "if __name__ == '__main__':\n",
        "    vocab_inp_size = len(inp_lang.word2idx)\n",
        "    vocab_tar_size = len(targ_lang.word2idx)\n",
        "\n",
        "    encoder = Encoder(embedding_es, vocab_inp_size, EMBEDDING_DIM, UNITS).to(device)\n",
        "    decoder = Decoder(embedding_eng, vocab_tar_size, EMBEDDING_DIM, UNITS, UNITS).to(device)\n",
        "\n",
        "    model_params = list(encoder.parameters()) + list(decoder.parameters())\n",
        "    optimizer = torch.optim.Adam(model_params, lr=LEARNING_RATE)\n",
        "\n",
        "    print('Encoder and Decoder models initialized!')"
      ],
      "execution_count": 19,
      "outputs": [
        {
          "output_type": "stream",
          "text": [
            "Encoder and Decoder models initialized!\n"
          ],
          "name": "stdout"
        }
      ]
    },
    {
      "cell_type": "markdown",
      "metadata": {
        "id": "VQKYT5w3n82V"
      },
      "source": [
        "# Train and evaluate your model here\n",
        "We expect your scores to be in the range of for full credit for each of the 4 BLEU scores individually. No partial credit :( \n",
        "\n",
        "*   BLEU-1 > 0.145\n",
        "*   BLEU-2 > 0.030\n",
        "*   BLEU-3 > 0.020\n",
        "*   BLEU-4 > 0.015"
      ]
    },
    {
      "cell_type": "code",
      "metadata": {
        "id": "OPosimvgdx_O",
        "colab": {
          "base_uri": "https://localhost:8080/",
          "height": 694,
          "referenced_widgets": [
            "e6347b988b134f4d88dc0ec54458f956",
            "ee25fabf8d84446881b72fa2157eb74e",
            "a3bafd3c8c7f48f19ff05b5bffa9d9db",
            "e3215b0233d54c6383aa35fe98018016",
            "8045ab64ae704bdd81b20433cbae1b75",
            "9655c25684b74e3ba88ce3ad6df1c787",
            "efb2e0e1b65345cea1b0a77050e6efbd",
            "60cadcf48bb64554895dc2c1cf8d0644",
            "9857c4d1775745d584da4732a8780f41",
            "e0c2d493741c45358385310dd256f4d8",
            "5f5d76cc39054928ae80e447bfb0686c",
            "60b8db16fd0d4e5da90893fd55a9117e",
            "7414d219e1e5497296cf4ed8f37cb2e8",
            "a45c210abf7741418dc070dd8cb9dfbe",
            "da906c05102145e7a9f2a545974cd77b",
            "fc492f8ae2104d53823e8cfb9dbb6fff",
            "e362062a2ba8478a89a965e6685a2f70",
            "471ac43c1b954e8882933e36a9322b50",
            "ada07711886c40b086cc234636661d2a",
            "674ee7d724894c6d98c5801ca1e63fc8",
            "c257c7bfcb6f420ebf012110a0f01ff2",
            "eb8c972ee6ab4c05a97e7072cf78e0fc",
            "17720354422248a09ee120b542b88cd7",
            "be5a9becb46048f3b7c1396d71127a83",
            "bb9da86fda9a426eb23bdb66d8ee9c55",
            "26a3e39493b94325aa8902035eaa0ab0",
            "7caac3a30c88497a96689107b67e6f0a",
            "c9744fb5ae5d4b60b16941bc5880dc41",
            "50e27e9972bd4515a992ff56f34d1249",
            "59d67a537c7e4019bfd93733669b811e",
            "f8d873fbc2ec490bb0366a126d435383",
            "54e1acb4bb05416182d78f1458e2a5b9",
            "d79288be77e3439fb56d8ad9a91ba70d",
            "8392866719ff4f7eb964e3cab0b7c69f",
            "e4a63a3cee40471f872aeea908fd9bb5",
            "b3bf11d0f3bf45759205e44c8cbbdc51",
            "16a6e615d86349fa8f02dffd3bc3d5d2",
            "3db868d06f7243cc9ba21d3e02abb8be",
            "67810f1278584566a14f9289075c3a30",
            "ea80d31c36044ad6b673ba835a4bb63f",
            "0b747c4b44f34f3c8a3d3d70bdb29402",
            "7717a0bcdcb7497c8dbaec166f01d136",
            "1667bd54d110478c84f006fafc79a7d3",
            "d85b32c9565e48f3aa127c7d7ee11e09",
            "32cf8ad52b584eb5bf1b9543fcfe3adc",
            "bb1280bda8934fd0aee3c646d3029627",
            "a78ff446ae8e414aa486bb34e76bfa27",
            "92476964e8454113b28ec27a2e2bd76f",
            "11c7a8ea3de04f6bbc8fb8b593178a34",
            "61b08666e3b140d18552d0ba665e0dc9",
            "59ece97ccca64a02b082ad8bfb895f53",
            "1e32af7e7c034608bcacb386ed77fc05",
            "4e9890f64a0240cf91c8d6741a5c7fad",
            "8f7b84a320b8484c8095b5344423a68b",
            "feedffbd9876433eb63d418d802fb39f",
            "14c5fb7ff8b24a9880b3dfb20ef4c1a7",
            "708bfe55ec1b46a48ca02cdb7dd9b5f4",
            "20933eb4c9be45d0b7e409a33f62450c",
            "b98ea9bd75d44407bfa68164f08d3bb4",
            "81d60010ae2a4fcfb54157838bc66563",
            "92648938ea014c2c8ca9ff3f12f1873f",
            "8c36b9a941464fc29d45290f9bf0b27c",
            "1727eac0f55c499c8ae43f9cc36142ef",
            "2cdc0d8106dd401fbde3bea4bd4f82e2",
            "09579ce48b0d49cbb8d4ffa66bf6e588",
            "07031ba4631b42bcbe6437c291baf3aa",
            "557876f2727945e188b47155ff71e8e3",
            "f92044693f7d48d5abe1f9835ebe7055",
            "0d7bde96895f4d13a986a458162a47ad",
            "7b55d5e5525f4c6993236cddfaccfbb8",
            "387a3b7ab4764d249eed800a4038de03",
            "721d67889ae84514b9c004ff0d8ea6f4",
            "fd88d1fe4ab546b08b69c520f5b175bb",
            "a7dea550bbe04ce4a71cc5c69b53b0e1",
            "5b97b173a5e9411c88dd3a5e5de1cd60",
            "df6cd42dbe494c928a909e8b2a657833",
            "5b33836b0bd843ac90d25b44aef4cab3",
            "790fab3f17344490b66a5b2a8ca60528",
            "c72f59fe270f419187ea3ec0bd9e2c71",
            "dff3f4aeaa0d484f9895de60403b8698"
          ]
        },
        "outputId": "deb582f4-7a46-4ed2-c4cf-a55f9207d2f1"
      },
      "source": [
        "if __name__ == '__main__':\n",
        "    train_model(encoder, decoder, train_dataset, optimizer, targ_lang, device)"
      ],
      "execution_count": 20,
      "outputs": [
        {
          "output_type": "display_data",
          "data": {
            "application/vnd.jupyter.widget-view+json": {
              "model_id": "e6347b988b134f4d88dc0ec54458f956",
              "version_minor": 0,
              "version_major": 2
            },
            "text/plain": [
              "HBox(children=(FloatProgress(value=0.0, max=375.0), HTML(value='')))"
            ]
          },
          "metadata": {
            "tags": []
          }
        },
        {
          "output_type": "stream",
          "text": [
            "\n",
            "Epoch: 1/10\t Loss:1.6551 (11.31s)\n"
          ],
          "name": "stdout"
        },
        {
          "output_type": "display_data",
          "data": {
            "application/vnd.jupyter.widget-view+json": {
              "model_id": "9857c4d1775745d584da4732a8780f41",
              "version_minor": 0,
              "version_major": 2
            },
            "text/plain": [
              "HBox(children=(FloatProgress(value=0.0, max=375.0), HTML(value='')))"
            ]
          },
          "metadata": {
            "tags": []
          }
        },
        {
          "output_type": "stream",
          "text": [
            "\n",
            "Epoch: 2/10\t Loss:1.1892 (11.12s)\n"
          ],
          "name": "stdout"
        },
        {
          "output_type": "display_data",
          "data": {
            "application/vnd.jupyter.widget-view+json": {
              "model_id": "e362062a2ba8478a89a965e6685a2f70",
              "version_minor": 0,
              "version_major": 2
            },
            "text/plain": [
              "HBox(children=(FloatProgress(value=0.0, max=375.0), HTML(value='')))"
            ]
          },
          "metadata": {
            "tags": []
          }
        },
        {
          "output_type": "stream",
          "text": [
            "\n",
            "Epoch: 3/10\t Loss:0.9364 (11.14s)\n"
          ],
          "name": "stdout"
        },
        {
          "output_type": "display_data",
          "data": {
            "application/vnd.jupyter.widget-view+json": {
              "model_id": "bb9da86fda9a426eb23bdb66d8ee9c55",
              "version_minor": 0,
              "version_major": 2
            },
            "text/plain": [
              "HBox(children=(FloatProgress(value=0.0, max=375.0), HTML(value='')))"
            ]
          },
          "metadata": {
            "tags": []
          }
        },
        {
          "output_type": "stream",
          "text": [
            "\n",
            "Epoch: 4/10\t Loss:0.7629 (11.13s)\n"
          ],
          "name": "stdout"
        },
        {
          "output_type": "display_data",
          "data": {
            "application/vnd.jupyter.widget-view+json": {
              "model_id": "d79288be77e3439fb56d8ad9a91ba70d",
              "version_minor": 0,
              "version_major": 2
            },
            "text/plain": [
              "HBox(children=(FloatProgress(value=0.0, max=375.0), HTML(value='')))"
            ]
          },
          "metadata": {
            "tags": []
          }
        },
        {
          "output_type": "stream",
          "text": [
            "\n",
            "Epoch: 5/10\t Loss:0.6293 (11.12s)\n"
          ],
          "name": "stdout"
        },
        {
          "output_type": "display_data",
          "data": {
            "application/vnd.jupyter.widget-view+json": {
              "model_id": "0b747c4b44f34f3c8a3d3d70bdb29402",
              "version_minor": 0,
              "version_major": 2
            },
            "text/plain": [
              "HBox(children=(FloatProgress(value=0.0, max=375.0), HTML(value='')))"
            ]
          },
          "metadata": {
            "tags": []
          }
        },
        {
          "output_type": "stream",
          "text": [
            "\n",
            "Epoch: 6/10\t Loss:0.5206 (11.04s)\n"
          ],
          "name": "stdout"
        },
        {
          "output_type": "display_data",
          "data": {
            "application/vnd.jupyter.widget-view+json": {
              "model_id": "11c7a8ea3de04f6bbc8fb8b593178a34",
              "version_minor": 0,
              "version_major": 2
            },
            "text/plain": [
              "HBox(children=(FloatProgress(value=0.0, max=375.0), HTML(value='')))"
            ]
          },
          "metadata": {
            "tags": []
          }
        },
        {
          "output_type": "stream",
          "text": [
            "\n",
            "Epoch: 7/10\t Loss:0.4325 (11.07s)\n"
          ],
          "name": "stdout"
        },
        {
          "output_type": "display_data",
          "data": {
            "application/vnd.jupyter.widget-view+json": {
              "model_id": "708bfe55ec1b46a48ca02cdb7dd9b5f4",
              "version_minor": 0,
              "version_major": 2
            },
            "text/plain": [
              "HBox(children=(FloatProgress(value=0.0, max=375.0), HTML(value='')))"
            ]
          },
          "metadata": {
            "tags": []
          }
        },
        {
          "output_type": "stream",
          "text": [
            "\n",
            "Epoch: 8/10\t Loss:0.3589 (11.42s)\n"
          ],
          "name": "stdout"
        },
        {
          "output_type": "display_data",
          "data": {
            "application/vnd.jupyter.widget-view+json": {
              "model_id": "09579ce48b0d49cbb8d4ffa66bf6e588",
              "version_minor": 0,
              "version_major": 2
            },
            "text/plain": [
              "HBox(children=(FloatProgress(value=0.0, max=375.0), HTML(value='')))"
            ]
          },
          "metadata": {
            "tags": []
          }
        },
        {
          "output_type": "stream",
          "text": [
            "\n",
            "Epoch: 9/10\t Loss:0.3000 (11.23s)\n"
          ],
          "name": "stdout"
        },
        {
          "output_type": "display_data",
          "data": {
            "application/vnd.jupyter.widget-view+json": {
              "model_id": "fd88d1fe4ab546b08b69c520f5b175bb",
              "version_minor": 0,
              "version_major": 2
            },
            "text/plain": [
              "HBox(children=(FloatProgress(value=0.0, max=375.0), HTML(value='')))"
            ]
          },
          "metadata": {
            "tags": []
          }
        },
        {
          "output_type": "stream",
          "text": [
            "\n",
            "Epoch:10/10\t Loss:0.2551 (11.12s)\n",
            "Model trained!\n"
          ],
          "name": "stdout"
        }
      ]
    },
    {
      "cell_type": "code",
      "metadata": {
        "id": "Doqxb5jnpk9z",
        "colab": {
          "base_uri": "https://localhost:8080/"
        },
        "outputId": "41c75844-138c-4ad7-8ea6-8a1a7a714c68"
      },
      "source": [
        "if __name__ == '__main__':\n",
        "    save_candidate = evaluate_model(encoder, decoder, val_dataset, target_tensor_val, max_length_tar, targ_lang, device)"
      ],
      "execution_count": 21,
      "outputs": [
        {
          "output_type": "stream",
          "text": [
            "Loss 3.1232\n",
            "BLEU 1-gram: 0.151526\n",
            "BLEU 2-gram: 0.038674\n",
            "BLEU 3-gram: 0.025640\n",
            "BLEU 4-gram: 0.021640\n"
          ],
          "name": "stdout"
        }
      ]
    },
    {
      "cell_type": "markdown",
      "metadata": {
        "id": "nYKSWRO93Mjz"
      },
      "source": [
        "# Save results to your Google Drive for Submission\n",
        "You need to submit this **results.pkl** file to the autograder."
      ]
    },
    {
      "cell_type": "code",
      "metadata": {
        "id": "R2Jnt32ItMA7",
        "colab": {
          "base_uri": "https://localhost:8080/"
        },
        "outputId": "3c4b7885-e091-40d3-e0f6-272d880995db"
      },
      "source": [
        "if __name__ == '__main__':\n",
        "    #from google.colab import drive\n",
        "    #drive.mount('/content/drive')\n",
        "\n",
        "    pickle.dump(save_candidate, open('results.pkl', 'wb'))\n",
        "    print('results.pkl saved to your Google Drive')"
      ],
      "execution_count": 22,
      "outputs": [
        {
          "output_type": "stream",
          "text": [
            "results.pkl saved to your Google Drive\n"
          ],
          "name": "stdout"
        }
      ]
    },
    {
      "cell_type": "code",
      "metadata": {
        "id": "h3TbkOknPGzt"
      },
      "source": [
        ""
      ],
      "execution_count": null,
      "outputs": []
    }
  ]
}